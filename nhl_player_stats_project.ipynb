{
  "nbformat": 4,
  "nbformat_minor": 0,
  "metadata": {
    "colab": {
      "name": "nhl_player_stats_project.ipynb",
      "provenance": [],
      "collapsed_sections": [
        "vwUDUXCo4qlP"
      ],
      "toc_visible": true,
      "include_colab_link": true
    },
    "kernelspec": {
      "name": "python3",
      "display_name": "Python 3"
    }
  },
  "cells": [
    {
      "cell_type": "markdown",
      "metadata": {
        "id": "view-in-github",
        "colab_type": "text"
      },
      "source": [
        "<a href=\"https://colab.research.google.com/github/deez79/GA_Python_FinalProject/blob/master/nhl_player_stats_project.ipynb\" target=\"_parent\"><img src=\"https://colab.research.google.com/assets/colab-badge.svg\" alt=\"Open In Colab\"/></a>"
      ]
    },
    {
      "cell_type": "markdown",
      "metadata": {
        "id": "rjUyAGTjqdPu",
        "colab_type": "text"
      },
      "source": [
        "# NHL Players from 1940 to 2018\n",
        "\n",
        "* Link to Dataset:\n",
        "https://www.kaggle.com/ace184/nhl-skater-stats"
      ]
    },
    {
      "cell_type": "markdown",
      "metadata": {
        "id": "TW9AcomcqiYT",
        "colab_type": "text"
      },
      "source": [
        "## Initial Setup:"
      ]
    },
    {
      "cell_type": "markdown",
      "metadata": {
        "id": "38_zh6SQ-xF0",
        "colab_type": "text"
      },
      "source": [
        "### Mount Google Drive to Colab:\n",
        "\n",
        "\n"
      ]
    },
    {
      "cell_type": "code",
      "metadata": {
        "id": "rnprw0WEqUGs",
        "colab_type": "code",
        "outputId": "3b61c7d9-3865-4929-a18a-cead8171bc6c",
        "colab": {
          "base_uri": "https://localhost:8080/",
          "height": 55
        }
      },
      "source": [
        "from google.colab import drive\n",
        "drive.mount('/content/drive')"
      ],
      "execution_count": 1,
      "outputs": [
        {
          "output_type": "stream",
          "text": [
            "Drive already mounted at /content/drive; to attempt to forcibly remount, call drive.mount(\"/content/drive\", force_remount=True).\n"
          ],
          "name": "stdout"
        }
      ]
    },
    {
      "cell_type": "markdown",
      "metadata": {
        "id": "sRlYml5ZrEkx",
        "colab_type": "text"
      },
      "source": [
        "### Libraries:"
      ]
    },
    {
      "cell_type": "code",
      "metadata": {
        "id": "BNEqds3YrHFw",
        "colab_type": "code",
        "colab": {}
      },
      "source": [
        "import pandas as pd\n",
        "import numpy as np\n",
        "import matplotlib.pyplot as plt\n",
        "%matplotlib inline"
      ],
      "execution_count": 0,
      "outputs": []
    },
    {
      "cell_type": "markdown",
      "metadata": {
        "id": "aLYmN0TErHcK",
        "colab_type": "text"
      },
      "source": [
        "### Dataset imported:"
      ]
    },
    {
      "cell_type": "code",
      "metadata": {
        "id": "coXH0APazmrf",
        "colab_type": "code",
        "colab": {}
      },
      "source": [
        "data_excel = \"/content/drive/My Drive/DATAFILES/skater_stats.xlsx\"\n",
        "skaters = pd.read_excel(data_excel)"
      ],
      "execution_count": 0,
      "outputs": []
    },
    {
      "cell_type": "code",
      "metadata": {
        "id": "It-8FqyoyAic",
        "colab_type": "code",
        "colab": {
          "base_uri": "https://localhost:8080/",
          "height": 313
        },
        "outputId": "84e59acc-3f0a-4634-9207-8e61a597cc1a"
      },
      "source": [
        "# Quick look at the data:\n",
        "skaters.head()"
      ],
      "execution_count": 4,
      "outputs": [
        {
          "output_type": "execute_result",
          "data": {
            "text/html": [
              "<div>\n",
              "<style scoped>\n",
              "    .dataframe tbody tr th:only-of-type {\n",
              "        vertical-align: middle;\n",
              "    }\n",
              "\n",
              "    .dataframe tbody tr th {\n",
              "        vertical-align: top;\n",
              "    }\n",
              "\n",
              "    .dataframe thead th {\n",
              "        text-align: right;\n",
              "    }\n",
              "</style>\n",
              "<table border=\"1\" class=\"dataframe\">\n",
              "  <thead>\n",
              "    <tr style=\"text-align: right;\">\n",
              "      <th></th>\n",
              "      <th>Key</th>\n",
              "      <th>Season</th>\n",
              "      <th>Player</th>\n",
              "      <th>Age</th>\n",
              "      <th>Tm</th>\n",
              "      <th>Pos</th>\n",
              "      <th>GP</th>\n",
              "      <th>G</th>\n",
              "      <th>GPG</th>\n",
              "      <th>A</th>\n",
              "      <th>PTS</th>\n",
              "      <th>+/-</th>\n",
              "      <th>PIM</th>\n",
              "      <th>EVG</th>\n",
              "      <th>PPG</th>\n",
              "      <th>SHG</th>\n",
              "      <th>GWG</th>\n",
              "      <th>EVA</th>\n",
              "      <th>PPA</th>\n",
              "      <th>SHA</th>\n",
              "      <th>S</th>\n",
              "      <th>S%</th>\n",
              "      <th>TOI</th>\n",
              "      <th>ATOI</th>\n",
              "      <th>BLK</th>\n",
              "      <th>HIT</th>\n",
              "      <th>FOwin</th>\n",
              "      <th>FOloss</th>\n",
              "      <th>FO%</th>\n",
              "    </tr>\n",
              "  </thead>\n",
              "  <tbody>\n",
              "    <tr>\n",
              "      <th>0</th>\n",
              "      <td>2018Justin Abdelkader</td>\n",
              "      <td>2018</td>\n",
              "      <td>Justin Abdelkader</td>\n",
              "      <td>30.0</td>\n",
              "      <td>DET</td>\n",
              "      <td>LW</td>\n",
              "      <td>75</td>\n",
              "      <td>13</td>\n",
              "      <td>0.1733</td>\n",
              "      <td>22</td>\n",
              "      <td>35</td>\n",
              "      <td>-11</td>\n",
              "      <td>78</td>\n",
              "      <td>9</td>\n",
              "      <td>4</td>\n",
              "      <td>-</td>\n",
              "      <td>-</td>\n",
              "      <td>17</td>\n",
              "      <td>5</td>\n",
              "      <td>-</td>\n",
              "      <td>110</td>\n",
              "      <td>12</td>\n",
              "      <td>1241.0</td>\n",
              "      <td>16:33:00</td>\n",
              "      <td>40.0</td>\n",
              "      <td>174.0</td>\n",
              "      <td>47.0</td>\n",
              "      <td>50.0</td>\n",
              "      <td>48.5</td>\n",
              "    </tr>\n",
              "    <tr>\n",
              "      <th>1</th>\n",
              "      <td>2018Pontus Aberg</td>\n",
              "      <td>2018</td>\n",
              "      <td>Pontus Aberg</td>\n",
              "      <td>24.0</td>\n",
              "      <td>TOT</td>\n",
              "      <td>LW</td>\n",
              "      <td>53</td>\n",
              "      <td>4</td>\n",
              "      <td>0.0755</td>\n",
              "      <td>12</td>\n",
              "      <td>16</td>\n",
              "      <td>9</td>\n",
              "      <td>10</td>\n",
              "      <td>4</td>\n",
              "      <td>-</td>\n",
              "      <td>-</td>\n",
              "      <td>3</td>\n",
              "      <td>11</td>\n",
              "      <td>1</td>\n",
              "      <td>-</td>\n",
              "      <td>70</td>\n",
              "      <td>6</td>\n",
              "      <td>645.0</td>\n",
              "      <td>12:10:00</td>\n",
              "      <td>8.0</td>\n",
              "      <td>24.0</td>\n",
              "      <td>4.0</td>\n",
              "      <td>8.0</td>\n",
              "      <td>33.3</td>\n",
              "    </tr>\n",
              "    <tr>\n",
              "      <th>2</th>\n",
              "      <td>2018Noel Acciari</td>\n",
              "      <td>2018</td>\n",
              "      <td>Noel Acciari</td>\n",
              "      <td>26.0</td>\n",
              "      <td>BOS</td>\n",
              "      <td>C</td>\n",
              "      <td>60</td>\n",
              "      <td>10</td>\n",
              "      <td>0.1667</td>\n",
              "      <td>1</td>\n",
              "      <td>11</td>\n",
              "      <td>-6</td>\n",
              "      <td>9</td>\n",
              "      <td>9</td>\n",
              "      <td>-</td>\n",
              "      <td>1</td>\n",
              "      <td>-</td>\n",
              "      <td>1</td>\n",
              "      <td>-</td>\n",
              "      <td>-</td>\n",
              "      <td>66</td>\n",
              "      <td>15</td>\n",
              "      <td>775.0</td>\n",
              "      <td>12:55:00</td>\n",
              "      <td>41.0</td>\n",
              "      <td>152.0</td>\n",
              "      <td>42.0</td>\n",
              "      <td>51.0</td>\n",
              "      <td>45.2</td>\n",
              "    </tr>\n",
              "    <tr>\n",
              "      <th>3</th>\n",
              "      <td>2018Kenny Agostino</td>\n",
              "      <td>2018</td>\n",
              "      <td>Kenny Agostino</td>\n",
              "      <td>25.0</td>\n",
              "      <td>BOS</td>\n",
              "      <td>LW</td>\n",
              "      <td>5</td>\n",
              "      <td>-</td>\n",
              "      <td>0.0000</td>\n",
              "      <td>1</td>\n",
              "      <td>1</td>\n",
              "      <td>-1</td>\n",
              "      <td>4</td>\n",
              "      <td>-</td>\n",
              "      <td>-</td>\n",
              "      <td>-</td>\n",
              "      <td>-</td>\n",
              "      <td>-</td>\n",
              "      <td>1</td>\n",
              "      <td>-</td>\n",
              "      <td>11</td>\n",
              "      <td>-</td>\n",
              "      <td>60.0</td>\n",
              "      <td>12:03:00</td>\n",
              "      <td>1.0</td>\n",
              "      <td>4.0</td>\n",
              "      <td>0.0</td>\n",
              "      <td>1.0</td>\n",
              "      <td>0.0</td>\n",
              "    </tr>\n",
              "    <tr>\n",
              "      <th>4</th>\n",
              "      <td>2018Sebastian Aho</td>\n",
              "      <td>2018</td>\n",
              "      <td>Sebastian Aho</td>\n",
              "      <td>20.0</td>\n",
              "      <td>CAR</td>\n",
              "      <td>RW</td>\n",
              "      <td>78</td>\n",
              "      <td>29</td>\n",
              "      <td>0.3718</td>\n",
              "      <td>36</td>\n",
              "      <td>65</td>\n",
              "      <td>4</td>\n",
              "      <td>24</td>\n",
              "      <td>21</td>\n",
              "      <td>8</td>\n",
              "      <td>-</td>\n",
              "      <td>4</td>\n",
              "      <td>28</td>\n",
              "      <td>8</td>\n",
              "      <td>-</td>\n",
              "      <td>200</td>\n",
              "      <td>15</td>\n",
              "      <td>1398.0</td>\n",
              "      <td>17:55:00</td>\n",
              "      <td>17.0</td>\n",
              "      <td>65.0</td>\n",
              "      <td>78.0</td>\n",
              "      <td>94.0</td>\n",
              "      <td>45.3</td>\n",
              "    </tr>\n",
              "  </tbody>\n",
              "</table>\n",
              "</div>"
            ],
            "text/plain": [
              "                     Key  Season             Player  ...  FOwin FOloss   FO%\n",
              "0  2018Justin Abdelkader    2018  Justin Abdelkader  ...   47.0   50.0  48.5\n",
              "1       2018Pontus Aberg    2018       Pontus Aberg  ...    4.0    8.0  33.3\n",
              "2       2018Noel Acciari    2018       Noel Acciari  ...   42.0   51.0  45.2\n",
              "3     2018Kenny Agostino    2018     Kenny Agostino  ...    0.0    1.0   0.0\n",
              "4      2018Sebastian Aho    2018      Sebastian Aho  ...   78.0   94.0  45.3\n",
              "\n",
              "[5 rows x 29 columns]"
            ]
          },
          "metadata": {
            "tags": []
          },
          "execution_count": 4
        }
      ]
    },
    {
      "cell_type": "markdown",
      "metadata": {
        "id": "JttzQbwx-_nz",
        "colab_type": "text"
      },
      "source": [
        "## Initial Data Inspection:"
      ]
    },
    {
      "cell_type": "markdown",
      "metadata": {
        "id": "kSojcKKq_F0I",
        "colab_type": "text"
      },
      "source": [
        "### Genral Info:"
      ]
    },
    {
      "cell_type": "code",
      "metadata": {
        "id": "BVKVtCWM_K6U",
        "colab_type": "code",
        "colab": {}
      },
      "source": [
        "# print(skaters.shape)\n",
        "# print(\"-----------------------------------------------------\")\n",
        "# print(skaters.info())\n",
        "# print(\"-----------------------------------------------------\")\n",
        "# print(skaters.describe())\n",
        "# print(\"-----------------------------------------------------\")\n",
        "# print(skaters.dtypes)"
      ],
      "execution_count": 0,
      "outputs": []
    },
    {
      "cell_type": "markdown",
      "metadata": {
        "id": "EWNSG-T-M-Td",
        "colab_type": "text"
      },
      "source": [
        "* How big is the data?"
      ]
    },
    {
      "cell_type": "code",
      "metadata": {
        "id": "WdS5QGg4Mm6T",
        "colab_type": "code",
        "colab": {
          "base_uri": "https://localhost:8080/",
          "height": 35
        },
        "outputId": "9090ae71-f75a-47b6-e570-b27d15182ee1"
      },
      "source": [
        "rows, columns = skaters.shape\n",
        "\n",
        "print(f'There are {rows} rows and {columns} columns')"
      ],
      "execution_count": 6,
      "outputs": [
        {
          "output_type": "stream",
          "text": [
            "There are 37825 rows and 29 columns\n"
          ],
          "name": "stdout"
        }
      ]
    },
    {
      "cell_type": "markdown",
      "metadata": {
        "id": "DlAr8mP3NGfF",
        "colab_type": "text"
      },
      "source": [
        "* What are the columns and what kind of data do they store?"
      ]
    },
    {
      "cell_type": "code",
      "metadata": {
        "id": "tsn2qB26NLV7",
        "colab_type": "code",
        "colab": {
          "base_uri": "https://localhost:8080/",
          "height": 562
        },
        "outputId": "7f057f76-50d2-42e3-a9a8-12aecb956a85"
      },
      "source": [
        "print(skaters.dtypes)"
      ],
      "execution_count": 7,
      "outputs": [
        {
          "output_type": "stream",
          "text": [
            "Key        object\n",
            "Season      int64\n",
            "Player     object\n",
            "Age       float64\n",
            "Tm         object\n",
            "Pos        object\n",
            "GP          int64\n",
            "G          object\n",
            "GPG       float64\n",
            "A          object\n",
            "PTS        object\n",
            "+/-        object\n",
            "PIM        object\n",
            "EVG        object\n",
            "PPG        object\n",
            "SHG        object\n",
            "GWG        object\n",
            "EVA        object\n",
            "PPA        object\n",
            "SHA        object\n",
            "S          object\n",
            "S%         object\n",
            "TOI       float64\n",
            "ATOI       object\n",
            "BLK       float64\n",
            "HIT       float64\n",
            "FOwin     float64\n",
            "FOloss    float64\n",
            "FO%       float64\n",
            "dtype: object\n"
          ],
          "name": "stdout"
        }
      ]
    },
    {
      "cell_type": "markdown",
      "metadata": {
        "id": "vwUDUXCo4qlP",
        "colab_type": "text"
      },
      "source": [
        "### Columns Explained:"
      ]
    },
    {
      "cell_type": "markdown",
      "metadata": {
        "id": "e5ebzSL6YpaK",
        "colab_type": "text"
      },
      "source": [
        "* Let's define what each of the columns means:\n",
        "\n",
        "| Abrv | Description   |\n",
        "|------|---------------|\n",
        "| Key  | Unique Key. Combination of Player and Season|\n",
        "| Player | Player Name |\n",
        "| Age  | Player Age |\n",
        "| Tm | Player Team |\n",
        "| Pos | Player Position |\n",
        "| GP | Player Games Played |\n",
        "| G | Player Goals Scored |\n",
        "| GPG | Goals Per Game |\n",
        "| A | Player Assists |\n",
        "| PTS | Points. The Sum of Goals and Assists |\n",
        "| +/- | Plus or Minus |\n",
        "| PIM | Penalty Infraction Minutes |\n",
        "| EVG | Even Strenght Goals |\n",
        "| PPG | Power Play Goals |\n",
        "| SHG | Short Handed Goals |\n",
        "| GWG | Game Wining Goals |\n",
        "| EVA | Even Strenght Assists |\n",
        "| PPA | Power Play Assists |\n",
        "| SHA | Short Handed Assists |\n",
        "| S | Shots on Goal |\n",
        "| S% | Shooting Percentage. Goals divided by Shots on Goal |\n",
        "| TOI | Time on Ice |\n",
        "| ATOI | Average Time on Ice |\n",
        "| BLK | Blocks |\n",
        "| HIT | Hits  |\n",
        "| FOWin | Face Off Wins |\n",
        "| FOLoss | Face Off Loss |\n",
        "| FO% | Face Off Percentage | \n",
        "\n",
        "* links:\n",
        "  * https://www.liveabout.com/nhl-stats-explained-2778914\n",
        "  * https://www.answers.com/Q/What_does_evg_stand_for_in_hockey\n",
        "  * https://www.tsn.ca/nhl/statistics\n",
        "\n",
        "\n"
      ]
    },
    {
      "cell_type": "code",
      "metadata": {
        "id": "wHWhPHoa6vqT",
        "colab_type": "code",
        "colab": {}
      },
      "source": [
        "# players.head(20)"
      ],
      "execution_count": 0,
      "outputs": []
    },
    {
      "cell_type": "markdown",
      "metadata": {
        "id": "DpE3pgtX-H0w",
        "colab_type": "text"
      },
      "source": [
        "## Clean the Data:"
      ]
    },
    {
      "cell_type": "markdown",
      "metadata": {
        "id": "ANdFmOykI6oy",
        "colab_type": "text"
      },
      "source": [
        "### Remove excess spaces from Tm column:\n",
        "* Further on when I was looking at Team data, I realized that there were spaces before  and after each team name, so we need to clean them out."
      ]
    },
    {
      "cell_type": "code",
      "metadata": {
        "id": "bOaI6hgeJAb8",
        "colab_type": "code",
        "colab": {}
      },
      "source": [
        "### --- A function to remove spaces from Team names in Tm column --- ###\n",
        "\n",
        "def remove_space(col):\n",
        "  c = col.values[0]\n",
        "  if type(c) == str:\n",
        "    # c = c.replace(' ', '')\n",
        "    c = c.strip()\n",
        "  return c\n",
        "  "
      ],
      "execution_count": 0,
      "outputs": []
    },
    {
      "cell_type": "code",
      "metadata": {
        "id": "TwTqDpmMJUzF",
        "colab_type": "code",
        "colab": {
          "base_uri": "https://localhost:8080/",
          "height": 313
        },
        "outputId": "9d560d51-b2bc-4e4c-d878-d09a336153d7"
      },
      "source": [
        "skaters['Tm'] = skaters[['Tm']].apply(remove_space, axis=1)\n",
        "\n",
        "skaters.head()"
      ],
      "execution_count": 10,
      "outputs": [
        {
          "output_type": "execute_result",
          "data": {
            "text/html": [
              "<div>\n",
              "<style scoped>\n",
              "    .dataframe tbody tr th:only-of-type {\n",
              "        vertical-align: middle;\n",
              "    }\n",
              "\n",
              "    .dataframe tbody tr th {\n",
              "        vertical-align: top;\n",
              "    }\n",
              "\n",
              "    .dataframe thead th {\n",
              "        text-align: right;\n",
              "    }\n",
              "</style>\n",
              "<table border=\"1\" class=\"dataframe\">\n",
              "  <thead>\n",
              "    <tr style=\"text-align: right;\">\n",
              "      <th></th>\n",
              "      <th>Key</th>\n",
              "      <th>Season</th>\n",
              "      <th>Player</th>\n",
              "      <th>Age</th>\n",
              "      <th>Tm</th>\n",
              "      <th>Pos</th>\n",
              "      <th>GP</th>\n",
              "      <th>G</th>\n",
              "      <th>GPG</th>\n",
              "      <th>A</th>\n",
              "      <th>PTS</th>\n",
              "      <th>+/-</th>\n",
              "      <th>PIM</th>\n",
              "      <th>EVG</th>\n",
              "      <th>PPG</th>\n",
              "      <th>SHG</th>\n",
              "      <th>GWG</th>\n",
              "      <th>EVA</th>\n",
              "      <th>PPA</th>\n",
              "      <th>SHA</th>\n",
              "      <th>S</th>\n",
              "      <th>S%</th>\n",
              "      <th>TOI</th>\n",
              "      <th>ATOI</th>\n",
              "      <th>BLK</th>\n",
              "      <th>HIT</th>\n",
              "      <th>FOwin</th>\n",
              "      <th>FOloss</th>\n",
              "      <th>FO%</th>\n",
              "    </tr>\n",
              "  </thead>\n",
              "  <tbody>\n",
              "    <tr>\n",
              "      <th>0</th>\n",
              "      <td>2018Justin Abdelkader</td>\n",
              "      <td>2018</td>\n",
              "      <td>Justin Abdelkader</td>\n",
              "      <td>30.0</td>\n",
              "      <td>DET</td>\n",
              "      <td>LW</td>\n",
              "      <td>75</td>\n",
              "      <td>13</td>\n",
              "      <td>0.1733</td>\n",
              "      <td>22</td>\n",
              "      <td>35</td>\n",
              "      <td>-11</td>\n",
              "      <td>78</td>\n",
              "      <td>9</td>\n",
              "      <td>4</td>\n",
              "      <td>-</td>\n",
              "      <td>-</td>\n",
              "      <td>17</td>\n",
              "      <td>5</td>\n",
              "      <td>-</td>\n",
              "      <td>110</td>\n",
              "      <td>12</td>\n",
              "      <td>1241.0</td>\n",
              "      <td>16:33:00</td>\n",
              "      <td>40.0</td>\n",
              "      <td>174.0</td>\n",
              "      <td>47.0</td>\n",
              "      <td>50.0</td>\n",
              "      <td>48.5</td>\n",
              "    </tr>\n",
              "    <tr>\n",
              "      <th>1</th>\n",
              "      <td>2018Pontus Aberg</td>\n",
              "      <td>2018</td>\n",
              "      <td>Pontus Aberg</td>\n",
              "      <td>24.0</td>\n",
              "      <td>TOT</td>\n",
              "      <td>LW</td>\n",
              "      <td>53</td>\n",
              "      <td>4</td>\n",
              "      <td>0.0755</td>\n",
              "      <td>12</td>\n",
              "      <td>16</td>\n",
              "      <td>9</td>\n",
              "      <td>10</td>\n",
              "      <td>4</td>\n",
              "      <td>-</td>\n",
              "      <td>-</td>\n",
              "      <td>3</td>\n",
              "      <td>11</td>\n",
              "      <td>1</td>\n",
              "      <td>-</td>\n",
              "      <td>70</td>\n",
              "      <td>6</td>\n",
              "      <td>645.0</td>\n",
              "      <td>12:10:00</td>\n",
              "      <td>8.0</td>\n",
              "      <td>24.0</td>\n",
              "      <td>4.0</td>\n",
              "      <td>8.0</td>\n",
              "      <td>33.3</td>\n",
              "    </tr>\n",
              "    <tr>\n",
              "      <th>2</th>\n",
              "      <td>2018Noel Acciari</td>\n",
              "      <td>2018</td>\n",
              "      <td>Noel Acciari</td>\n",
              "      <td>26.0</td>\n",
              "      <td>BOS</td>\n",
              "      <td>C</td>\n",
              "      <td>60</td>\n",
              "      <td>10</td>\n",
              "      <td>0.1667</td>\n",
              "      <td>1</td>\n",
              "      <td>11</td>\n",
              "      <td>-6</td>\n",
              "      <td>9</td>\n",
              "      <td>9</td>\n",
              "      <td>-</td>\n",
              "      <td>1</td>\n",
              "      <td>-</td>\n",
              "      <td>1</td>\n",
              "      <td>-</td>\n",
              "      <td>-</td>\n",
              "      <td>66</td>\n",
              "      <td>15</td>\n",
              "      <td>775.0</td>\n",
              "      <td>12:55:00</td>\n",
              "      <td>41.0</td>\n",
              "      <td>152.0</td>\n",
              "      <td>42.0</td>\n",
              "      <td>51.0</td>\n",
              "      <td>45.2</td>\n",
              "    </tr>\n",
              "    <tr>\n",
              "      <th>3</th>\n",
              "      <td>2018Kenny Agostino</td>\n",
              "      <td>2018</td>\n",
              "      <td>Kenny Agostino</td>\n",
              "      <td>25.0</td>\n",
              "      <td>BOS</td>\n",
              "      <td>LW</td>\n",
              "      <td>5</td>\n",
              "      <td>-</td>\n",
              "      <td>0.0000</td>\n",
              "      <td>1</td>\n",
              "      <td>1</td>\n",
              "      <td>-1</td>\n",
              "      <td>4</td>\n",
              "      <td>-</td>\n",
              "      <td>-</td>\n",
              "      <td>-</td>\n",
              "      <td>-</td>\n",
              "      <td>-</td>\n",
              "      <td>1</td>\n",
              "      <td>-</td>\n",
              "      <td>11</td>\n",
              "      <td>-</td>\n",
              "      <td>60.0</td>\n",
              "      <td>12:03:00</td>\n",
              "      <td>1.0</td>\n",
              "      <td>4.0</td>\n",
              "      <td>0.0</td>\n",
              "      <td>1.0</td>\n",
              "      <td>0.0</td>\n",
              "    </tr>\n",
              "    <tr>\n",
              "      <th>4</th>\n",
              "      <td>2018Sebastian Aho</td>\n",
              "      <td>2018</td>\n",
              "      <td>Sebastian Aho</td>\n",
              "      <td>20.0</td>\n",
              "      <td>CAR</td>\n",
              "      <td>RW</td>\n",
              "      <td>78</td>\n",
              "      <td>29</td>\n",
              "      <td>0.3718</td>\n",
              "      <td>36</td>\n",
              "      <td>65</td>\n",
              "      <td>4</td>\n",
              "      <td>24</td>\n",
              "      <td>21</td>\n",
              "      <td>8</td>\n",
              "      <td>-</td>\n",
              "      <td>4</td>\n",
              "      <td>28</td>\n",
              "      <td>8</td>\n",
              "      <td>-</td>\n",
              "      <td>200</td>\n",
              "      <td>15</td>\n",
              "      <td>1398.0</td>\n",
              "      <td>17:55:00</td>\n",
              "      <td>17.0</td>\n",
              "      <td>65.0</td>\n",
              "      <td>78.0</td>\n",
              "      <td>94.0</td>\n",
              "      <td>45.3</td>\n",
              "    </tr>\n",
              "  </tbody>\n",
              "</table>\n",
              "</div>"
            ],
            "text/plain": [
              "                     Key  Season             Player  ...  FOwin FOloss   FO%\n",
              "0  2018Justin Abdelkader    2018  Justin Abdelkader  ...   47.0   50.0  48.5\n",
              "1       2018Pontus Aberg    2018       Pontus Aberg  ...    4.0    8.0  33.3\n",
              "2       2018Noel Acciari    2018       Noel Acciari  ...   42.0   51.0  45.2\n",
              "3     2018Kenny Agostino    2018     Kenny Agostino  ...    0.0    1.0   0.0\n",
              "4      2018Sebastian Aho    2018      Sebastian Aho  ...   78.0   94.0  45.3\n",
              "\n",
              "[5 rows x 29 columns]"
            ]
          },
          "metadata": {
            "tags": []
          },
          "execution_count": 10
        }
      ]
    },
    {
      "cell_type": "code",
      "metadata": {
        "id": "MeqGi6GwJgeW",
        "colab_type": "code",
        "colab": {
          "base_uri": "https://localhost:8080/",
          "height": 126
        },
        "outputId": "fd2feb92-6ac9-4370-de26-dd9a3d0e96a9"
      },
      "source": [
        "skaters['Tm'].unique()"
      ],
      "execution_count": 11,
      "outputs": [
        {
          "output_type": "execute_result",
          "data": {
            "text/plain": [
              "array(['DET', 'TOT', 'BOS', 'CAR', 'NYI', 'MTL', 'LAK', 'CBJ', 'NYR',\n",
              "       'CGY', 'COL', 'CHI', 'BUF', 'VAN', 'WPG', 'NSH', 'PIT', 'EDM',\n",
              "       'WSH', 'FLA', 'STL', 'ANA', 'VEG', 'MIN', 'DAL', 'OTT', 'SJS',\n",
              "       'TOR', 'TBL', 'NJD', 'ARI', 'PHI', 'PHX', 'ATL', 'MDA', 'HAR',\n",
              "       'WIN', 'QUE', 'MNS', 'CBH', 'CLR', 'ATF', 'CLE', 'CGS', 'KCS',\n",
              "       'OAK', 'BRO', 'NYA'], dtype=object)"
            ]
          },
          "metadata": {
            "tags": []
          },
          "execution_count": 11
        }
      ]
    },
    {
      "cell_type": "markdown",
      "metadata": {
        "id": "NjA_rcj8ra5o",
        "colab_type": "text"
      },
      "source": [
        "* link:\n",
        "https://en.wikipedia.org/wiki/Template:NHL_team_abbreviations\n",
        "\n"
      ]
    },
    {
      "cell_type": "code",
      "metadata": {
        "id": "kZrXfdTZJzLK",
        "colab_type": "code",
        "colab": {
          "base_uri": "https://localhost:8080/",
          "height": 313
        },
        "outputId": "73141a68-0a3a-4c20-c34f-74732fe9e012"
      },
      "source": [
        "### --- Take a peak at the data --- ###\n",
        "skaters.head()"
      ],
      "execution_count": 12,
      "outputs": [
        {
          "output_type": "execute_result",
          "data": {
            "text/html": [
              "<div>\n",
              "<style scoped>\n",
              "    .dataframe tbody tr th:only-of-type {\n",
              "        vertical-align: middle;\n",
              "    }\n",
              "\n",
              "    .dataframe tbody tr th {\n",
              "        vertical-align: top;\n",
              "    }\n",
              "\n",
              "    .dataframe thead th {\n",
              "        text-align: right;\n",
              "    }\n",
              "</style>\n",
              "<table border=\"1\" class=\"dataframe\">\n",
              "  <thead>\n",
              "    <tr style=\"text-align: right;\">\n",
              "      <th></th>\n",
              "      <th>Key</th>\n",
              "      <th>Season</th>\n",
              "      <th>Player</th>\n",
              "      <th>Age</th>\n",
              "      <th>Tm</th>\n",
              "      <th>Pos</th>\n",
              "      <th>GP</th>\n",
              "      <th>G</th>\n",
              "      <th>GPG</th>\n",
              "      <th>A</th>\n",
              "      <th>PTS</th>\n",
              "      <th>+/-</th>\n",
              "      <th>PIM</th>\n",
              "      <th>EVG</th>\n",
              "      <th>PPG</th>\n",
              "      <th>SHG</th>\n",
              "      <th>GWG</th>\n",
              "      <th>EVA</th>\n",
              "      <th>PPA</th>\n",
              "      <th>SHA</th>\n",
              "      <th>S</th>\n",
              "      <th>S%</th>\n",
              "      <th>TOI</th>\n",
              "      <th>ATOI</th>\n",
              "      <th>BLK</th>\n",
              "      <th>HIT</th>\n",
              "      <th>FOwin</th>\n",
              "      <th>FOloss</th>\n",
              "      <th>FO%</th>\n",
              "    </tr>\n",
              "  </thead>\n",
              "  <tbody>\n",
              "    <tr>\n",
              "      <th>0</th>\n",
              "      <td>2018Justin Abdelkader</td>\n",
              "      <td>2018</td>\n",
              "      <td>Justin Abdelkader</td>\n",
              "      <td>30.0</td>\n",
              "      <td>DET</td>\n",
              "      <td>LW</td>\n",
              "      <td>75</td>\n",
              "      <td>13</td>\n",
              "      <td>0.1733</td>\n",
              "      <td>22</td>\n",
              "      <td>35</td>\n",
              "      <td>-11</td>\n",
              "      <td>78</td>\n",
              "      <td>9</td>\n",
              "      <td>4</td>\n",
              "      <td>-</td>\n",
              "      <td>-</td>\n",
              "      <td>17</td>\n",
              "      <td>5</td>\n",
              "      <td>-</td>\n",
              "      <td>110</td>\n",
              "      <td>12</td>\n",
              "      <td>1241.0</td>\n",
              "      <td>16:33:00</td>\n",
              "      <td>40.0</td>\n",
              "      <td>174.0</td>\n",
              "      <td>47.0</td>\n",
              "      <td>50.0</td>\n",
              "      <td>48.5</td>\n",
              "    </tr>\n",
              "    <tr>\n",
              "      <th>1</th>\n",
              "      <td>2018Pontus Aberg</td>\n",
              "      <td>2018</td>\n",
              "      <td>Pontus Aberg</td>\n",
              "      <td>24.0</td>\n",
              "      <td>TOT</td>\n",
              "      <td>LW</td>\n",
              "      <td>53</td>\n",
              "      <td>4</td>\n",
              "      <td>0.0755</td>\n",
              "      <td>12</td>\n",
              "      <td>16</td>\n",
              "      <td>9</td>\n",
              "      <td>10</td>\n",
              "      <td>4</td>\n",
              "      <td>-</td>\n",
              "      <td>-</td>\n",
              "      <td>3</td>\n",
              "      <td>11</td>\n",
              "      <td>1</td>\n",
              "      <td>-</td>\n",
              "      <td>70</td>\n",
              "      <td>6</td>\n",
              "      <td>645.0</td>\n",
              "      <td>12:10:00</td>\n",
              "      <td>8.0</td>\n",
              "      <td>24.0</td>\n",
              "      <td>4.0</td>\n",
              "      <td>8.0</td>\n",
              "      <td>33.3</td>\n",
              "    </tr>\n",
              "    <tr>\n",
              "      <th>2</th>\n",
              "      <td>2018Noel Acciari</td>\n",
              "      <td>2018</td>\n",
              "      <td>Noel Acciari</td>\n",
              "      <td>26.0</td>\n",
              "      <td>BOS</td>\n",
              "      <td>C</td>\n",
              "      <td>60</td>\n",
              "      <td>10</td>\n",
              "      <td>0.1667</td>\n",
              "      <td>1</td>\n",
              "      <td>11</td>\n",
              "      <td>-6</td>\n",
              "      <td>9</td>\n",
              "      <td>9</td>\n",
              "      <td>-</td>\n",
              "      <td>1</td>\n",
              "      <td>-</td>\n",
              "      <td>1</td>\n",
              "      <td>-</td>\n",
              "      <td>-</td>\n",
              "      <td>66</td>\n",
              "      <td>15</td>\n",
              "      <td>775.0</td>\n",
              "      <td>12:55:00</td>\n",
              "      <td>41.0</td>\n",
              "      <td>152.0</td>\n",
              "      <td>42.0</td>\n",
              "      <td>51.0</td>\n",
              "      <td>45.2</td>\n",
              "    </tr>\n",
              "    <tr>\n",
              "      <th>3</th>\n",
              "      <td>2018Kenny Agostino</td>\n",
              "      <td>2018</td>\n",
              "      <td>Kenny Agostino</td>\n",
              "      <td>25.0</td>\n",
              "      <td>BOS</td>\n",
              "      <td>LW</td>\n",
              "      <td>5</td>\n",
              "      <td>-</td>\n",
              "      <td>0.0000</td>\n",
              "      <td>1</td>\n",
              "      <td>1</td>\n",
              "      <td>-1</td>\n",
              "      <td>4</td>\n",
              "      <td>-</td>\n",
              "      <td>-</td>\n",
              "      <td>-</td>\n",
              "      <td>-</td>\n",
              "      <td>-</td>\n",
              "      <td>1</td>\n",
              "      <td>-</td>\n",
              "      <td>11</td>\n",
              "      <td>-</td>\n",
              "      <td>60.0</td>\n",
              "      <td>12:03:00</td>\n",
              "      <td>1.0</td>\n",
              "      <td>4.0</td>\n",
              "      <td>0.0</td>\n",
              "      <td>1.0</td>\n",
              "      <td>0.0</td>\n",
              "    </tr>\n",
              "    <tr>\n",
              "      <th>4</th>\n",
              "      <td>2018Sebastian Aho</td>\n",
              "      <td>2018</td>\n",
              "      <td>Sebastian Aho</td>\n",
              "      <td>20.0</td>\n",
              "      <td>CAR</td>\n",
              "      <td>RW</td>\n",
              "      <td>78</td>\n",
              "      <td>29</td>\n",
              "      <td>0.3718</td>\n",
              "      <td>36</td>\n",
              "      <td>65</td>\n",
              "      <td>4</td>\n",
              "      <td>24</td>\n",
              "      <td>21</td>\n",
              "      <td>8</td>\n",
              "      <td>-</td>\n",
              "      <td>4</td>\n",
              "      <td>28</td>\n",
              "      <td>8</td>\n",
              "      <td>-</td>\n",
              "      <td>200</td>\n",
              "      <td>15</td>\n",
              "      <td>1398.0</td>\n",
              "      <td>17:55:00</td>\n",
              "      <td>17.0</td>\n",
              "      <td>65.0</td>\n",
              "      <td>78.0</td>\n",
              "      <td>94.0</td>\n",
              "      <td>45.3</td>\n",
              "    </tr>\n",
              "  </tbody>\n",
              "</table>\n",
              "</div>"
            ],
            "text/plain": [
              "                     Key  Season             Player  ...  FOwin FOloss   FO%\n",
              "0  2018Justin Abdelkader    2018  Justin Abdelkader  ...   47.0   50.0  48.5\n",
              "1       2018Pontus Aberg    2018       Pontus Aberg  ...    4.0    8.0  33.3\n",
              "2       2018Noel Acciari    2018       Noel Acciari  ...   42.0   51.0  45.2\n",
              "3     2018Kenny Agostino    2018     Kenny Agostino  ...    0.0    1.0   0.0\n",
              "4      2018Sebastian Aho    2018      Sebastian Aho  ...   78.0   94.0  45.3\n",
              "\n",
              "[5 rows x 29 columns]"
            ]
          },
          "metadata": {
            "tags": []
          },
          "execution_count": 12
        }
      ]
    },
    {
      "cell_type": "markdown",
      "metadata": {
        "id": "UbJaO0px1WWt",
        "colab_type": "text"
      },
      "source": [
        "### Change Column Types so we can do calculations:"
      ]
    },
    {
      "cell_type": "markdown",
      "metadata": {
        "id": "UlFOZu5d9gd_",
        "colab_type": "text"
      },
      "source": [
        "* How to make all the columns floats or ints as needed?"
      ]
    },
    {
      "cell_type": "code",
      "metadata": {
        "colab_type": "code",
        "id": "w_PhmMUgOlBL",
        "colab": {}
      },
      "source": [
        "### --- A function to change dashes with zeros --- ###\n",
        "\n",
        "def replace_dash(col):\n",
        "  c = col.values[0]\n",
        "\n",
        "  if type(c) == int:\n",
        "    return c \n",
        "  \n",
        "  if type(c) == str:\n",
        "    c = c.strip()\n",
        "    try:\n",
        "      c_int = int(c)\n",
        "      if pd.isnan(c_int):\n",
        "        return 0\n",
        "      return c_int\n",
        "    except:\n",
        "      return 0\n",
        "  else:\n",
        "    return c"
      ],
      "execution_count": 0,
      "outputs": []
    },
    {
      "cell_type": "code",
      "metadata": {
        "id": "9S5nEYjz0581",
        "colab_type": "code",
        "colab": {}
      },
      "source": [
        "### --- A list of Columns to Fix --- ###\n",
        "cols_to_fix = ['GP', 'G', 'GPG', 'A', 'PTS', '+/-', 'PIM', 'EVG', 'PPG', 'SHG', 'GWG', 'EVA', 'PPA', 'SHA', 'S', 'S%', 'TOI', 'ATOI', 'BLK', 'HIT', 'FOwin', 'FOloss', 'FO%' ]\n",
        "\n",
        "### ---  A loop to run the function on each cell in the columns we need to fix --- ###\n",
        "for col_var in cols_to_fix:\n",
        "  skaters[col_var] = skaters[[col_var]].apply(replace_dash, axis=1)"
      ],
      "execution_count": 0,
      "outputs": []
    },
    {
      "cell_type": "code",
      "metadata": {
        "id": "i8N29zrQ29Em",
        "colab_type": "code",
        "colab": {
          "base_uri": "https://localhost:8080/",
          "height": 313
        },
        "outputId": "e01acca3-a78a-4158-d78e-a237e2a213fe"
      },
      "source": [
        "### --- lets look at the top of the data --- ###\n",
        "skaters.head()"
      ],
      "execution_count": 15,
      "outputs": [
        {
          "output_type": "execute_result",
          "data": {
            "text/html": [
              "<div>\n",
              "<style scoped>\n",
              "    .dataframe tbody tr th:only-of-type {\n",
              "        vertical-align: middle;\n",
              "    }\n",
              "\n",
              "    .dataframe tbody tr th {\n",
              "        vertical-align: top;\n",
              "    }\n",
              "\n",
              "    .dataframe thead th {\n",
              "        text-align: right;\n",
              "    }\n",
              "</style>\n",
              "<table border=\"1\" class=\"dataframe\">\n",
              "  <thead>\n",
              "    <tr style=\"text-align: right;\">\n",
              "      <th></th>\n",
              "      <th>Key</th>\n",
              "      <th>Season</th>\n",
              "      <th>Player</th>\n",
              "      <th>Age</th>\n",
              "      <th>Tm</th>\n",
              "      <th>Pos</th>\n",
              "      <th>GP</th>\n",
              "      <th>G</th>\n",
              "      <th>GPG</th>\n",
              "      <th>A</th>\n",
              "      <th>PTS</th>\n",
              "      <th>+/-</th>\n",
              "      <th>PIM</th>\n",
              "      <th>EVG</th>\n",
              "      <th>PPG</th>\n",
              "      <th>SHG</th>\n",
              "      <th>GWG</th>\n",
              "      <th>EVA</th>\n",
              "      <th>PPA</th>\n",
              "      <th>SHA</th>\n",
              "      <th>S</th>\n",
              "      <th>S%</th>\n",
              "      <th>TOI</th>\n",
              "      <th>ATOI</th>\n",
              "      <th>BLK</th>\n",
              "      <th>HIT</th>\n",
              "      <th>FOwin</th>\n",
              "      <th>FOloss</th>\n",
              "      <th>FO%</th>\n",
              "    </tr>\n",
              "  </thead>\n",
              "  <tbody>\n",
              "    <tr>\n",
              "      <th>0</th>\n",
              "      <td>2018Justin Abdelkader</td>\n",
              "      <td>2018</td>\n",
              "      <td>Justin Abdelkader</td>\n",
              "      <td>30.0</td>\n",
              "      <td>DET</td>\n",
              "      <td>LW</td>\n",
              "      <td>75</td>\n",
              "      <td>13</td>\n",
              "      <td>0.1733</td>\n",
              "      <td>22</td>\n",
              "      <td>35</td>\n",
              "      <td>-11.0</td>\n",
              "      <td>78.0</td>\n",
              "      <td>9.0</td>\n",
              "      <td>4.0</td>\n",
              "      <td>0.0</td>\n",
              "      <td>0.0</td>\n",
              "      <td>17.0</td>\n",
              "      <td>5.0</td>\n",
              "      <td>0.0</td>\n",
              "      <td>110.0</td>\n",
              "      <td>12.0</td>\n",
              "      <td>1241.0</td>\n",
              "      <td>16:33:00</td>\n",
              "      <td>40.0</td>\n",
              "      <td>174.0</td>\n",
              "      <td>47.0</td>\n",
              "      <td>50.0</td>\n",
              "      <td>48.5</td>\n",
              "    </tr>\n",
              "    <tr>\n",
              "      <th>1</th>\n",
              "      <td>2018Pontus Aberg</td>\n",
              "      <td>2018</td>\n",
              "      <td>Pontus Aberg</td>\n",
              "      <td>24.0</td>\n",
              "      <td>TOT</td>\n",
              "      <td>LW</td>\n",
              "      <td>53</td>\n",
              "      <td>4</td>\n",
              "      <td>0.0755</td>\n",
              "      <td>12</td>\n",
              "      <td>16</td>\n",
              "      <td>9.0</td>\n",
              "      <td>10.0</td>\n",
              "      <td>4.0</td>\n",
              "      <td>0.0</td>\n",
              "      <td>0.0</td>\n",
              "      <td>3.0</td>\n",
              "      <td>11.0</td>\n",
              "      <td>1.0</td>\n",
              "      <td>0.0</td>\n",
              "      <td>70.0</td>\n",
              "      <td>6.0</td>\n",
              "      <td>645.0</td>\n",
              "      <td>12:10:00</td>\n",
              "      <td>8.0</td>\n",
              "      <td>24.0</td>\n",
              "      <td>4.0</td>\n",
              "      <td>8.0</td>\n",
              "      <td>33.3</td>\n",
              "    </tr>\n",
              "    <tr>\n",
              "      <th>2</th>\n",
              "      <td>2018Noel Acciari</td>\n",
              "      <td>2018</td>\n",
              "      <td>Noel Acciari</td>\n",
              "      <td>26.0</td>\n",
              "      <td>BOS</td>\n",
              "      <td>C</td>\n",
              "      <td>60</td>\n",
              "      <td>10</td>\n",
              "      <td>0.1667</td>\n",
              "      <td>1</td>\n",
              "      <td>11</td>\n",
              "      <td>-6.0</td>\n",
              "      <td>9.0</td>\n",
              "      <td>9.0</td>\n",
              "      <td>0.0</td>\n",
              "      <td>1.0</td>\n",
              "      <td>0.0</td>\n",
              "      <td>1.0</td>\n",
              "      <td>0.0</td>\n",
              "      <td>0.0</td>\n",
              "      <td>66.0</td>\n",
              "      <td>15.0</td>\n",
              "      <td>775.0</td>\n",
              "      <td>12:55:00</td>\n",
              "      <td>41.0</td>\n",
              "      <td>152.0</td>\n",
              "      <td>42.0</td>\n",
              "      <td>51.0</td>\n",
              "      <td>45.2</td>\n",
              "    </tr>\n",
              "    <tr>\n",
              "      <th>3</th>\n",
              "      <td>2018Kenny Agostino</td>\n",
              "      <td>2018</td>\n",
              "      <td>Kenny Agostino</td>\n",
              "      <td>25.0</td>\n",
              "      <td>BOS</td>\n",
              "      <td>LW</td>\n",
              "      <td>5</td>\n",
              "      <td>0</td>\n",
              "      <td>0.0000</td>\n",
              "      <td>1</td>\n",
              "      <td>1</td>\n",
              "      <td>-1.0</td>\n",
              "      <td>4.0</td>\n",
              "      <td>0.0</td>\n",
              "      <td>0.0</td>\n",
              "      <td>0.0</td>\n",
              "      <td>0.0</td>\n",
              "      <td>0.0</td>\n",
              "      <td>1.0</td>\n",
              "      <td>0.0</td>\n",
              "      <td>11.0</td>\n",
              "      <td>0.0</td>\n",
              "      <td>60.0</td>\n",
              "      <td>12:03:00</td>\n",
              "      <td>1.0</td>\n",
              "      <td>4.0</td>\n",
              "      <td>0.0</td>\n",
              "      <td>1.0</td>\n",
              "      <td>0.0</td>\n",
              "    </tr>\n",
              "    <tr>\n",
              "      <th>4</th>\n",
              "      <td>2018Sebastian Aho</td>\n",
              "      <td>2018</td>\n",
              "      <td>Sebastian Aho</td>\n",
              "      <td>20.0</td>\n",
              "      <td>CAR</td>\n",
              "      <td>RW</td>\n",
              "      <td>78</td>\n",
              "      <td>29</td>\n",
              "      <td>0.3718</td>\n",
              "      <td>36</td>\n",
              "      <td>65</td>\n",
              "      <td>4.0</td>\n",
              "      <td>24.0</td>\n",
              "      <td>21.0</td>\n",
              "      <td>8.0</td>\n",
              "      <td>0.0</td>\n",
              "      <td>4.0</td>\n",
              "      <td>28.0</td>\n",
              "      <td>8.0</td>\n",
              "      <td>0.0</td>\n",
              "      <td>200.0</td>\n",
              "      <td>15.0</td>\n",
              "      <td>1398.0</td>\n",
              "      <td>17:55:00</td>\n",
              "      <td>17.0</td>\n",
              "      <td>65.0</td>\n",
              "      <td>78.0</td>\n",
              "      <td>94.0</td>\n",
              "      <td>45.3</td>\n",
              "    </tr>\n",
              "  </tbody>\n",
              "</table>\n",
              "</div>"
            ],
            "text/plain": [
              "                     Key  Season             Player  ...  FOwin FOloss   FO%\n",
              "0  2018Justin Abdelkader    2018  Justin Abdelkader  ...   47.0   50.0  48.5\n",
              "1       2018Pontus Aberg    2018       Pontus Aberg  ...    4.0    8.0  33.3\n",
              "2       2018Noel Acciari    2018       Noel Acciari  ...   42.0   51.0  45.2\n",
              "3     2018Kenny Agostino    2018     Kenny Agostino  ...    0.0    1.0   0.0\n",
              "4      2018Sebastian Aho    2018      Sebastian Aho  ...   78.0   94.0  45.3\n",
              "\n",
              "[5 rows x 29 columns]"
            ]
          },
          "metadata": {
            "tags": []
          },
          "execution_count": 15
        }
      ]
    },
    {
      "cell_type": "code",
      "metadata": {
        "id": "h7UHboiT3Dhe",
        "colab_type": "code",
        "colab": {
          "base_uri": "https://localhost:8080/",
          "height": 313
        },
        "outputId": "158f6317-63e4-4600-c393-0e71f2dd0544"
      },
      "source": [
        "### --- lets look at the bottom of the data --- ###\n",
        "skaters.tail()"
      ],
      "execution_count": 16,
      "outputs": [
        {
          "output_type": "execute_result",
          "data": {
            "text/html": [
              "<div>\n",
              "<style scoped>\n",
              "    .dataframe tbody tr th:only-of-type {\n",
              "        vertical-align: middle;\n",
              "    }\n",
              "\n",
              "    .dataframe tbody tr th {\n",
              "        vertical-align: top;\n",
              "    }\n",
              "\n",
              "    .dataframe thead th {\n",
              "        text-align: right;\n",
              "    }\n",
              "</style>\n",
              "<table border=\"1\" class=\"dataframe\">\n",
              "  <thead>\n",
              "    <tr style=\"text-align: right;\">\n",
              "      <th></th>\n",
              "      <th>Key</th>\n",
              "      <th>Season</th>\n",
              "      <th>Player</th>\n",
              "      <th>Age</th>\n",
              "      <th>Tm</th>\n",
              "      <th>Pos</th>\n",
              "      <th>GP</th>\n",
              "      <th>G</th>\n",
              "      <th>GPG</th>\n",
              "      <th>A</th>\n",
              "      <th>PTS</th>\n",
              "      <th>+/-</th>\n",
              "      <th>PIM</th>\n",
              "      <th>EVG</th>\n",
              "      <th>PPG</th>\n",
              "      <th>SHG</th>\n",
              "      <th>GWG</th>\n",
              "      <th>EVA</th>\n",
              "      <th>PPA</th>\n",
              "      <th>SHA</th>\n",
              "      <th>S</th>\n",
              "      <th>S%</th>\n",
              "      <th>TOI</th>\n",
              "      <th>ATOI</th>\n",
              "      <th>BLK</th>\n",
              "      <th>HIT</th>\n",
              "      <th>FOwin</th>\n",
              "      <th>FOloss</th>\n",
              "      <th>FO%</th>\n",
              "    </tr>\n",
              "  </thead>\n",
              "  <tbody>\n",
              "    <tr>\n",
              "      <th>37820</th>\n",
              "      <td>1940Gordie Drillon*</td>\n",
              "      <td>1940</td>\n",
              "      <td>Gordie Drillon*</td>\n",
              "      <td>26.0</td>\n",
              "      <td>TOR</td>\n",
              "      <td>RW</td>\n",
              "      <td>43</td>\n",
              "      <td>21</td>\n",
              "      <td>0.4884</td>\n",
              "      <td>19</td>\n",
              "      <td>40</td>\n",
              "      <td>NaN</td>\n",
              "      <td>13.0</td>\n",
              "      <td>NaN</td>\n",
              "      <td>NaN</td>\n",
              "      <td>NaN</td>\n",
              "      <td>NaN</td>\n",
              "      <td>NaN</td>\n",
              "      <td>NaN</td>\n",
              "      <td>NaN</td>\n",
              "      <td>NaN</td>\n",
              "      <td>NaN</td>\n",
              "      <td>NaN</td>\n",
              "      <td>NaN</td>\n",
              "      <td>NaN</td>\n",
              "      <td>NaN</td>\n",
              "      <td>NaN</td>\n",
              "      <td>NaN</td>\n",
              "      <td>NaN</td>\n",
              "    </tr>\n",
              "    <tr>\n",
              "      <th>37821</th>\n",
              "      <td>1940Bill Cowley*</td>\n",
              "      <td>1940</td>\n",
              "      <td>Bill Cowley*</td>\n",
              "      <td>27.0</td>\n",
              "      <td>BOS</td>\n",
              "      <td>C</td>\n",
              "      <td>48</td>\n",
              "      <td>13</td>\n",
              "      <td>0.2708</td>\n",
              "      <td>27</td>\n",
              "      <td>40</td>\n",
              "      <td>NaN</td>\n",
              "      <td>24.0</td>\n",
              "      <td>NaN</td>\n",
              "      <td>NaN</td>\n",
              "      <td>NaN</td>\n",
              "      <td>NaN</td>\n",
              "      <td>NaN</td>\n",
              "      <td>NaN</td>\n",
              "      <td>NaN</td>\n",
              "      <td>NaN</td>\n",
              "      <td>NaN</td>\n",
              "      <td>NaN</td>\n",
              "      <td>NaN</td>\n",
              "      <td>NaN</td>\n",
              "      <td>NaN</td>\n",
              "      <td>NaN</td>\n",
              "      <td>NaN</td>\n",
              "      <td>NaN</td>\n",
              "    </tr>\n",
              "    <tr>\n",
              "      <th>37822</th>\n",
              "      <td>1940Woody Dumart*</td>\n",
              "      <td>1940</td>\n",
              "      <td>Woody Dumart*</td>\n",
              "      <td>23.0</td>\n",
              "      <td>BOS</td>\n",
              "      <td>LW</td>\n",
              "      <td>48</td>\n",
              "      <td>22</td>\n",
              "      <td>0.4583</td>\n",
              "      <td>21</td>\n",
              "      <td>43</td>\n",
              "      <td>NaN</td>\n",
              "      <td>16.0</td>\n",
              "      <td>NaN</td>\n",
              "      <td>NaN</td>\n",
              "      <td>NaN</td>\n",
              "      <td>NaN</td>\n",
              "      <td>NaN</td>\n",
              "      <td>NaN</td>\n",
              "      <td>NaN</td>\n",
              "      <td>NaN</td>\n",
              "      <td>NaN</td>\n",
              "      <td>NaN</td>\n",
              "      <td>NaN</td>\n",
              "      <td>NaN</td>\n",
              "      <td>NaN</td>\n",
              "      <td>NaN</td>\n",
              "      <td>NaN</td>\n",
              "      <td>NaN</td>\n",
              "    </tr>\n",
              "    <tr>\n",
              "      <th>37823</th>\n",
              "      <td>1940Bobby Bauer*</td>\n",
              "      <td>1940</td>\n",
              "      <td>Bobby Bauer*</td>\n",
              "      <td>24.0</td>\n",
              "      <td>BOS</td>\n",
              "      <td>RW</td>\n",
              "      <td>48</td>\n",
              "      <td>17</td>\n",
              "      <td>0.3542</td>\n",
              "      <td>26</td>\n",
              "      <td>43</td>\n",
              "      <td>NaN</td>\n",
              "      <td>2.0</td>\n",
              "      <td>NaN</td>\n",
              "      <td>NaN</td>\n",
              "      <td>NaN</td>\n",
              "      <td>NaN</td>\n",
              "      <td>NaN</td>\n",
              "      <td>NaN</td>\n",
              "      <td>NaN</td>\n",
              "      <td>NaN</td>\n",
              "      <td>NaN</td>\n",
              "      <td>NaN</td>\n",
              "      <td>NaN</td>\n",
              "      <td>NaN</td>\n",
              "      <td>NaN</td>\n",
              "      <td>NaN</td>\n",
              "      <td>NaN</td>\n",
              "      <td>NaN</td>\n",
              "    </tr>\n",
              "    <tr>\n",
              "      <th>37824</th>\n",
              "      <td>1940Milt Schmidt*</td>\n",
              "      <td>1940</td>\n",
              "      <td>Milt Schmidt*</td>\n",
              "      <td>21.0</td>\n",
              "      <td>BOS</td>\n",
              "      <td>C</td>\n",
              "      <td>48</td>\n",
              "      <td>22</td>\n",
              "      <td>0.4583</td>\n",
              "      <td>30</td>\n",
              "      <td>52</td>\n",
              "      <td>NaN</td>\n",
              "      <td>37.0</td>\n",
              "      <td>NaN</td>\n",
              "      <td>NaN</td>\n",
              "      <td>NaN</td>\n",
              "      <td>NaN</td>\n",
              "      <td>NaN</td>\n",
              "      <td>NaN</td>\n",
              "      <td>NaN</td>\n",
              "      <td>NaN</td>\n",
              "      <td>NaN</td>\n",
              "      <td>NaN</td>\n",
              "      <td>NaN</td>\n",
              "      <td>NaN</td>\n",
              "      <td>NaN</td>\n",
              "      <td>NaN</td>\n",
              "      <td>NaN</td>\n",
              "      <td>NaN</td>\n",
              "    </tr>\n",
              "  </tbody>\n",
              "</table>\n",
              "</div>"
            ],
            "text/plain": [
              "                       Key  Season           Player  ...  FOwin FOloss FO%\n",
              "37820  1940Gordie Drillon*    1940  Gordie Drillon*  ...    NaN    NaN NaN\n",
              "37821     1940Bill Cowley*    1940     Bill Cowley*  ...    NaN    NaN NaN\n",
              "37822    1940Woody Dumart*    1940    Woody Dumart*  ...    NaN    NaN NaN\n",
              "37823     1940Bobby Bauer*    1940     Bobby Bauer*  ...    NaN    NaN NaN\n",
              "37824    1940Milt Schmidt*    1940    Milt Schmidt*  ...    NaN    NaN NaN\n",
              "\n",
              "[5 rows x 29 columns]"
            ]
          },
          "metadata": {
            "tags": []
          },
          "execution_count": 16
        }
      ]
    },
    {
      "cell_type": "markdown",
      "metadata": {
        "id": "q0HqbWoK3cNo",
        "colab_type": "text"
      },
      "source": [
        "### Replace NaN's with 0's:"
      ]
    },
    {
      "cell_type": "code",
      "metadata": {
        "id": "AwlhwAyB3URE",
        "colab_type": "code",
        "colab": {}
      },
      "source": [
        "### ---  Replace NA's with 0's --- ###\n",
        "skaters = skaters.fillna(0)"
      ],
      "execution_count": 0,
      "outputs": []
    },
    {
      "cell_type": "code",
      "metadata": {
        "id": "KemAMWb53NVK",
        "colab_type": "code",
        "outputId": "50ae3db2-e681-422d-87eb-151ffbe4c500",
        "colab": {
          "base_uri": "https://localhost:8080/",
          "height": 557
        }
      },
      "source": [
        "### --- Make sure the bottom of the data is good too --- ###\n",
        "skaters.tail(10)"
      ],
      "execution_count": 18,
      "outputs": [
        {
          "output_type": "execute_result",
          "data": {
            "text/html": [
              "<div>\n",
              "<style scoped>\n",
              "    .dataframe tbody tr th:only-of-type {\n",
              "        vertical-align: middle;\n",
              "    }\n",
              "\n",
              "    .dataframe tbody tr th {\n",
              "        vertical-align: top;\n",
              "    }\n",
              "\n",
              "    .dataframe thead th {\n",
              "        text-align: right;\n",
              "    }\n",
              "</style>\n",
              "<table border=\"1\" class=\"dataframe\">\n",
              "  <thead>\n",
              "    <tr style=\"text-align: right;\">\n",
              "      <th></th>\n",
              "      <th>Key</th>\n",
              "      <th>Season</th>\n",
              "      <th>Player</th>\n",
              "      <th>Age</th>\n",
              "      <th>Tm</th>\n",
              "      <th>Pos</th>\n",
              "      <th>GP</th>\n",
              "      <th>G</th>\n",
              "      <th>GPG</th>\n",
              "      <th>A</th>\n",
              "      <th>PTS</th>\n",
              "      <th>+/-</th>\n",
              "      <th>PIM</th>\n",
              "      <th>EVG</th>\n",
              "      <th>PPG</th>\n",
              "      <th>SHG</th>\n",
              "      <th>GWG</th>\n",
              "      <th>EVA</th>\n",
              "      <th>PPA</th>\n",
              "      <th>SHA</th>\n",
              "      <th>S</th>\n",
              "      <th>S%</th>\n",
              "      <th>TOI</th>\n",
              "      <th>ATOI</th>\n",
              "      <th>BLK</th>\n",
              "      <th>HIT</th>\n",
              "      <th>FOwin</th>\n",
              "      <th>FOloss</th>\n",
              "      <th>FO%</th>\n",
              "    </tr>\n",
              "  </thead>\n",
              "  <tbody>\n",
              "    <tr>\n",
              "      <th>37815</th>\n",
              "      <td>1940Toe Blake*</td>\n",
              "      <td>1940</td>\n",
              "      <td>Toe Blake*</td>\n",
              "      <td>27.0</td>\n",
              "      <td>MTL</td>\n",
              "      <td>LW</td>\n",
              "      <td>48</td>\n",
              "      <td>17</td>\n",
              "      <td>0.3542</td>\n",
              "      <td>19</td>\n",
              "      <td>36</td>\n",
              "      <td>0.0</td>\n",
              "      <td>48.0</td>\n",
              "      <td>0.0</td>\n",
              "      <td>0.0</td>\n",
              "      <td>0.0</td>\n",
              "      <td>0.0</td>\n",
              "      <td>0.0</td>\n",
              "      <td>0.0</td>\n",
              "      <td>0.0</td>\n",
              "      <td>0.0</td>\n",
              "      <td>0.0</td>\n",
              "      <td>0.0</td>\n",
              "      <td>0</td>\n",
              "      <td>0.0</td>\n",
              "      <td>0.0</td>\n",
              "      <td>0.0</td>\n",
              "      <td>0.0</td>\n",
              "      <td>0.0</td>\n",
              "    </tr>\n",
              "    <tr>\n",
              "      <th>37816</th>\n",
              "      <td>1940Murray Armstrong</td>\n",
              "      <td>1940</td>\n",
              "      <td>Murray Armstrong</td>\n",
              "      <td>24.0</td>\n",
              "      <td>NYA</td>\n",
              "      <td>C</td>\n",
              "      <td>47</td>\n",
              "      <td>16</td>\n",
              "      <td>0.3404</td>\n",
              "      <td>20</td>\n",
              "      <td>36</td>\n",
              "      <td>0.0</td>\n",
              "      <td>12.0</td>\n",
              "      <td>0.0</td>\n",
              "      <td>0.0</td>\n",
              "      <td>0.0</td>\n",
              "      <td>0.0</td>\n",
              "      <td>0.0</td>\n",
              "      <td>0.0</td>\n",
              "      <td>0.0</td>\n",
              "      <td>0.0</td>\n",
              "      <td>0.0</td>\n",
              "      <td>0.0</td>\n",
              "      <td>0</td>\n",
              "      <td>0.0</td>\n",
              "      <td>0.0</td>\n",
              "      <td>0.0</td>\n",
              "      <td>0.0</td>\n",
              "      <td>0.0</td>\n",
              "    </tr>\n",
              "    <tr>\n",
              "      <th>37817</th>\n",
              "      <td>1940Syd Howe*</td>\n",
              "      <td>1940</td>\n",
              "      <td>Syd Howe*</td>\n",
              "      <td>28.0</td>\n",
              "      <td>DET</td>\n",
              "      <td>C</td>\n",
              "      <td>46</td>\n",
              "      <td>14</td>\n",
              "      <td>0.3043</td>\n",
              "      <td>23</td>\n",
              "      <td>37</td>\n",
              "      <td>0.0</td>\n",
              "      <td>17.0</td>\n",
              "      <td>0.0</td>\n",
              "      <td>0.0</td>\n",
              "      <td>0.0</td>\n",
              "      <td>0.0</td>\n",
              "      <td>0.0</td>\n",
              "      <td>0.0</td>\n",
              "      <td>0.0</td>\n",
              "      <td>0.0</td>\n",
              "      <td>0.0</td>\n",
              "      <td>0.0</td>\n",
              "      <td>0</td>\n",
              "      <td>0.0</td>\n",
              "      <td>0.0</td>\n",
              "      <td>0.0</td>\n",
              "      <td>0.0</td>\n",
              "      <td>0.0</td>\n",
              "    </tr>\n",
              "    <tr>\n",
              "      <th>37818</th>\n",
              "      <td>1940Neil Colville*</td>\n",
              "      <td>1940</td>\n",
              "      <td>Neil Colville*</td>\n",
              "      <td>25.0</td>\n",
              "      <td>NYR</td>\n",
              "      <td>C</td>\n",
              "      <td>48</td>\n",
              "      <td>19</td>\n",
              "      <td>0.3958</td>\n",
              "      <td>19</td>\n",
              "      <td>38</td>\n",
              "      <td>0.0</td>\n",
              "      <td>22.0</td>\n",
              "      <td>0.0</td>\n",
              "      <td>0.0</td>\n",
              "      <td>0.0</td>\n",
              "      <td>0.0</td>\n",
              "      <td>0.0</td>\n",
              "      <td>0.0</td>\n",
              "      <td>0.0</td>\n",
              "      <td>0.0</td>\n",
              "      <td>0.0</td>\n",
              "      <td>0.0</td>\n",
              "      <td>0</td>\n",
              "      <td>0.0</td>\n",
              "      <td>0.0</td>\n",
              "      <td>0.0</td>\n",
              "      <td>0.0</td>\n",
              "      <td>0.0</td>\n",
              "    </tr>\n",
              "    <tr>\n",
              "      <th>37819</th>\n",
              "      <td>1940Bryan Hextall*</td>\n",
              "      <td>1940</td>\n",
              "      <td>Bryan Hextall*</td>\n",
              "      <td>26.0</td>\n",
              "      <td>NYR</td>\n",
              "      <td>RW</td>\n",
              "      <td>48</td>\n",
              "      <td>24</td>\n",
              "      <td>0.5000</td>\n",
              "      <td>15</td>\n",
              "      <td>39</td>\n",
              "      <td>0.0</td>\n",
              "      <td>52.0</td>\n",
              "      <td>0.0</td>\n",
              "      <td>0.0</td>\n",
              "      <td>0.0</td>\n",
              "      <td>0.0</td>\n",
              "      <td>0.0</td>\n",
              "      <td>0.0</td>\n",
              "      <td>0.0</td>\n",
              "      <td>0.0</td>\n",
              "      <td>0.0</td>\n",
              "      <td>0.0</td>\n",
              "      <td>0</td>\n",
              "      <td>0.0</td>\n",
              "      <td>0.0</td>\n",
              "      <td>0.0</td>\n",
              "      <td>0.0</td>\n",
              "      <td>0.0</td>\n",
              "    </tr>\n",
              "    <tr>\n",
              "      <th>37820</th>\n",
              "      <td>1940Gordie Drillon*</td>\n",
              "      <td>1940</td>\n",
              "      <td>Gordie Drillon*</td>\n",
              "      <td>26.0</td>\n",
              "      <td>TOR</td>\n",
              "      <td>RW</td>\n",
              "      <td>43</td>\n",
              "      <td>21</td>\n",
              "      <td>0.4884</td>\n",
              "      <td>19</td>\n",
              "      <td>40</td>\n",
              "      <td>0.0</td>\n",
              "      <td>13.0</td>\n",
              "      <td>0.0</td>\n",
              "      <td>0.0</td>\n",
              "      <td>0.0</td>\n",
              "      <td>0.0</td>\n",
              "      <td>0.0</td>\n",
              "      <td>0.0</td>\n",
              "      <td>0.0</td>\n",
              "      <td>0.0</td>\n",
              "      <td>0.0</td>\n",
              "      <td>0.0</td>\n",
              "      <td>0</td>\n",
              "      <td>0.0</td>\n",
              "      <td>0.0</td>\n",
              "      <td>0.0</td>\n",
              "      <td>0.0</td>\n",
              "      <td>0.0</td>\n",
              "    </tr>\n",
              "    <tr>\n",
              "      <th>37821</th>\n",
              "      <td>1940Bill Cowley*</td>\n",
              "      <td>1940</td>\n",
              "      <td>Bill Cowley*</td>\n",
              "      <td>27.0</td>\n",
              "      <td>BOS</td>\n",
              "      <td>C</td>\n",
              "      <td>48</td>\n",
              "      <td>13</td>\n",
              "      <td>0.2708</td>\n",
              "      <td>27</td>\n",
              "      <td>40</td>\n",
              "      <td>0.0</td>\n",
              "      <td>24.0</td>\n",
              "      <td>0.0</td>\n",
              "      <td>0.0</td>\n",
              "      <td>0.0</td>\n",
              "      <td>0.0</td>\n",
              "      <td>0.0</td>\n",
              "      <td>0.0</td>\n",
              "      <td>0.0</td>\n",
              "      <td>0.0</td>\n",
              "      <td>0.0</td>\n",
              "      <td>0.0</td>\n",
              "      <td>0</td>\n",
              "      <td>0.0</td>\n",
              "      <td>0.0</td>\n",
              "      <td>0.0</td>\n",
              "      <td>0.0</td>\n",
              "      <td>0.0</td>\n",
              "    </tr>\n",
              "    <tr>\n",
              "      <th>37822</th>\n",
              "      <td>1940Woody Dumart*</td>\n",
              "      <td>1940</td>\n",
              "      <td>Woody Dumart*</td>\n",
              "      <td>23.0</td>\n",
              "      <td>BOS</td>\n",
              "      <td>LW</td>\n",
              "      <td>48</td>\n",
              "      <td>22</td>\n",
              "      <td>0.4583</td>\n",
              "      <td>21</td>\n",
              "      <td>43</td>\n",
              "      <td>0.0</td>\n",
              "      <td>16.0</td>\n",
              "      <td>0.0</td>\n",
              "      <td>0.0</td>\n",
              "      <td>0.0</td>\n",
              "      <td>0.0</td>\n",
              "      <td>0.0</td>\n",
              "      <td>0.0</td>\n",
              "      <td>0.0</td>\n",
              "      <td>0.0</td>\n",
              "      <td>0.0</td>\n",
              "      <td>0.0</td>\n",
              "      <td>0</td>\n",
              "      <td>0.0</td>\n",
              "      <td>0.0</td>\n",
              "      <td>0.0</td>\n",
              "      <td>0.0</td>\n",
              "      <td>0.0</td>\n",
              "    </tr>\n",
              "    <tr>\n",
              "      <th>37823</th>\n",
              "      <td>1940Bobby Bauer*</td>\n",
              "      <td>1940</td>\n",
              "      <td>Bobby Bauer*</td>\n",
              "      <td>24.0</td>\n",
              "      <td>BOS</td>\n",
              "      <td>RW</td>\n",
              "      <td>48</td>\n",
              "      <td>17</td>\n",
              "      <td>0.3542</td>\n",
              "      <td>26</td>\n",
              "      <td>43</td>\n",
              "      <td>0.0</td>\n",
              "      <td>2.0</td>\n",
              "      <td>0.0</td>\n",
              "      <td>0.0</td>\n",
              "      <td>0.0</td>\n",
              "      <td>0.0</td>\n",
              "      <td>0.0</td>\n",
              "      <td>0.0</td>\n",
              "      <td>0.0</td>\n",
              "      <td>0.0</td>\n",
              "      <td>0.0</td>\n",
              "      <td>0.0</td>\n",
              "      <td>0</td>\n",
              "      <td>0.0</td>\n",
              "      <td>0.0</td>\n",
              "      <td>0.0</td>\n",
              "      <td>0.0</td>\n",
              "      <td>0.0</td>\n",
              "    </tr>\n",
              "    <tr>\n",
              "      <th>37824</th>\n",
              "      <td>1940Milt Schmidt*</td>\n",
              "      <td>1940</td>\n",
              "      <td>Milt Schmidt*</td>\n",
              "      <td>21.0</td>\n",
              "      <td>BOS</td>\n",
              "      <td>C</td>\n",
              "      <td>48</td>\n",
              "      <td>22</td>\n",
              "      <td>0.4583</td>\n",
              "      <td>30</td>\n",
              "      <td>52</td>\n",
              "      <td>0.0</td>\n",
              "      <td>37.0</td>\n",
              "      <td>0.0</td>\n",
              "      <td>0.0</td>\n",
              "      <td>0.0</td>\n",
              "      <td>0.0</td>\n",
              "      <td>0.0</td>\n",
              "      <td>0.0</td>\n",
              "      <td>0.0</td>\n",
              "      <td>0.0</td>\n",
              "      <td>0.0</td>\n",
              "      <td>0.0</td>\n",
              "      <td>0</td>\n",
              "      <td>0.0</td>\n",
              "      <td>0.0</td>\n",
              "      <td>0.0</td>\n",
              "      <td>0.0</td>\n",
              "      <td>0.0</td>\n",
              "    </tr>\n",
              "  </tbody>\n",
              "</table>\n",
              "</div>"
            ],
            "text/plain": [
              "                        Key  Season            Player  ...  FOwin FOloss  FO%\n",
              "37815        1940Toe Blake*    1940        Toe Blake*  ...    0.0    0.0  0.0\n",
              "37816  1940Murray Armstrong    1940  Murray Armstrong  ...    0.0    0.0  0.0\n",
              "37817         1940Syd Howe*    1940         Syd Howe*  ...    0.0    0.0  0.0\n",
              "37818    1940Neil Colville*    1940    Neil Colville*  ...    0.0    0.0  0.0\n",
              "37819    1940Bryan Hextall*    1940    Bryan Hextall*  ...    0.0    0.0  0.0\n",
              "37820   1940Gordie Drillon*    1940   Gordie Drillon*  ...    0.0    0.0  0.0\n",
              "37821      1940Bill Cowley*    1940      Bill Cowley*  ...    0.0    0.0  0.0\n",
              "37822     1940Woody Dumart*    1940     Woody Dumart*  ...    0.0    0.0  0.0\n",
              "37823      1940Bobby Bauer*    1940      Bobby Bauer*  ...    0.0    0.0  0.0\n",
              "37824     1940Milt Schmidt*    1940     Milt Schmidt*  ...    0.0    0.0  0.0\n",
              "\n",
              "[10 rows x 29 columns]"
            ]
          },
          "metadata": {
            "tags": []
          },
          "execution_count": 18
        }
      ]
    },
    {
      "cell_type": "markdown",
      "metadata": {
        "id": "L2xaaiDzfEFU",
        "colab_type": "text"
      },
      "source": [
        "## Ask some questions about the data:"
      ]
    },
    {
      "cell_type": "markdown",
      "metadata": {
        "id": "ETdY_Yq9-VUj",
        "colab_type": "text"
      },
      "source": [
        "#### How many Teams are there?"
      ]
    },
    {
      "cell_type": "code",
      "metadata": {
        "id": "DuLEKJLnYGoB",
        "colab_type": "code",
        "outputId": "b7cb2599-567b-4ef9-b6d0-a8bf06067b01",
        "colab": {
          "base_uri": "https://localhost:8080/",
          "height": 108
        }
      },
      "source": [
        "print(skaters['Tm'].unique())\n",
        "print(skaters['Tm'].nunique())"
      ],
      "execution_count": 19,
      "outputs": [
        {
          "output_type": "stream",
          "text": [
            "['DET' 'TOT' 'BOS' 'CAR' 'NYI' 'MTL' 'LAK' 'CBJ' 'NYR' 'CGY' 'COL' 'CHI'\n",
            " 'BUF' 'VAN' 'WPG' 'NSH' 'PIT' 'EDM' 'WSH' 'FLA' 'STL' 'ANA' 'VEG' 'MIN'\n",
            " 'DAL' 'OTT' 'SJS' 'TOR' 'TBL' 'NJD' 'ARI' 'PHI' 'PHX' 'ATL' 'MDA' 'HAR'\n",
            " 'WIN' 'QUE' 'MNS' 'CBH' 'CLR' 'ATF' 'CLE' 'CGS' 'KCS' 'OAK' 'BRO' 'NYA']\n",
            "48\n"
          ],
          "name": "stdout"
        }
      ]
    },
    {
      "cell_type": "markdown",
      "metadata": {
        "id": "_Y26JP3l9ozu",
        "colab_type": "text"
      },
      "source": [
        "### How many Players have played in the NHL?"
      ]
    },
    {
      "cell_type": "code",
      "metadata": {
        "id": "ptlw7_a69uyq",
        "colab_type": "code",
        "colab": {
          "base_uri": "https://localhost:8080/",
          "height": 35
        },
        "outputId": "8a702313-50a6-4be2-94e0-511d92df5116"
      },
      "source": [
        "player_count = skaters['Player'].nunique()\n",
        "print(f'There are {player_count} players in this dataset.')"
      ],
      "execution_count": 20,
      "outputs": [
        {
          "output_type": "stream",
          "text": [
            "There are 6464 players in this dataset.\n"
          ],
          "name": "stdout"
        }
      ]
    },
    {
      "cell_type": "markdown",
      "metadata": {
        "id": "k48jAJkIpnxM",
        "colab_type": "text"
      },
      "source": [
        "## Answer the following questions:\n",
        "\n",
        "\n",
        "\n"
      ]
    },
    {
      "cell_type": "markdown",
      "metadata": {
        "id": "GKx-mUMo-amm",
        "colab_type": "text"
      },
      "source": [
        "#### What was the highest number of goals scored per season by a player?"
      ]
    },
    {
      "cell_type": "code",
      "metadata": {
        "id": "t-uxyJsFin7_",
        "colab_type": "code",
        "outputId": "77e223cb-dcb3-40ad-93ff-afca5098da3c",
        "colab": {
          "base_uri": "https://localhost:8080/",
          "height": 363
        }
      },
      "source": [
        "skaters[['Player','Pos', 'Tm','Season', 'G']].sort_values(by = ['G', 'Season'], ascending=False).head(10)"
      ],
      "execution_count": 21,
      "outputs": [
        {
          "output_type": "execute_result",
          "data": {
            "text/html": [
              "<div>\n",
              "<style scoped>\n",
              "    .dataframe tbody tr th:only-of-type {\n",
              "        vertical-align: middle;\n",
              "    }\n",
              "\n",
              "    .dataframe tbody tr th {\n",
              "        vertical-align: top;\n",
              "    }\n",
              "\n",
              "    .dataframe thead th {\n",
              "        text-align: right;\n",
              "    }\n",
              "</style>\n",
              "<table border=\"1\" class=\"dataframe\">\n",
              "  <thead>\n",
              "    <tr style=\"text-align: right;\">\n",
              "      <th></th>\n",
              "      <th>Player</th>\n",
              "      <th>Pos</th>\n",
              "      <th>Tm</th>\n",
              "      <th>Season</th>\n",
              "      <th>G</th>\n",
              "    </tr>\n",
              "  </thead>\n",
              "  <tbody>\n",
              "    <tr>\n",
              "      <th>28219</th>\n",
              "      <td>Wayne Gretzky*</td>\n",
              "      <td>C</td>\n",
              "      <td>EDM</td>\n",
              "      <td>1982</td>\n",
              "      <td>92</td>\n",
              "    </tr>\n",
              "    <tr>\n",
              "      <th>27001</th>\n",
              "      <td>Wayne Gretzky*</td>\n",
              "      <td>C</td>\n",
              "      <td>EDM</td>\n",
              "      <td>1984</td>\n",
              "      <td>87</td>\n",
              "    </tr>\n",
              "    <tr>\n",
              "      <th>22544</th>\n",
              "      <td>Brett Hull*</td>\n",
              "      <td>RW</td>\n",
              "      <td>STL</td>\n",
              "      <td>1991</td>\n",
              "      <td>86</td>\n",
              "    </tr>\n",
              "    <tr>\n",
              "      <th>23863</th>\n",
              "      <td>Mario Lemieux*</td>\n",
              "      <td>C</td>\n",
              "      <td>PIT</td>\n",
              "      <td>1989</td>\n",
              "      <td>85</td>\n",
              "    </tr>\n",
              "    <tr>\n",
              "      <th>21170</th>\n",
              "      <td>Alexander Mogilny</td>\n",
              "      <td>RW</td>\n",
              "      <td>BUF</td>\n",
              "      <td>1993</td>\n",
              "      <td>76</td>\n",
              "    </tr>\n",
              "    <tr>\n",
              "      <th>21173</th>\n",
              "      <td>Teemu Selanne</td>\n",
              "      <td>RW</td>\n",
              "      <td>WIN</td>\n",
              "      <td>1993</td>\n",
              "      <td>76</td>\n",
              "    </tr>\n",
              "    <tr>\n",
              "      <th>33047</th>\n",
              "      <td>Phil Esposito*</td>\n",
              "      <td>C</td>\n",
              "      <td>BOS</td>\n",
              "      <td>1971</td>\n",
              "      <td>76</td>\n",
              "    </tr>\n",
              "    <tr>\n",
              "      <th>26381</th>\n",
              "      <td>Wayne Gretzky*</td>\n",
              "      <td>C</td>\n",
              "      <td>EDM</td>\n",
              "      <td>1985</td>\n",
              "      <td>73</td>\n",
              "    </tr>\n",
              "    <tr>\n",
              "      <th>23196</th>\n",
              "      <td>Brett Hull*</td>\n",
              "      <td>RW</td>\n",
              "      <td>STL</td>\n",
              "      <td>1990</td>\n",
              "      <td>72</td>\n",
              "    </tr>\n",
              "    <tr>\n",
              "      <th>26380</th>\n",
              "      <td>Jari Kurri*</td>\n",
              "      <td>RW</td>\n",
              "      <td>EDM</td>\n",
              "      <td>1985</td>\n",
              "      <td>71</td>\n",
              "    </tr>\n",
              "  </tbody>\n",
              "</table>\n",
              "</div>"
            ],
            "text/plain": [
              "                  Player   Pos   Tm  Season   G\n",
              "28219     Wayne Gretzky*    C   EDM    1982  92\n",
              "27001     Wayne Gretzky*    C   EDM    1984  87\n",
              "22544        Brett Hull*   RW   STL    1991  86\n",
              "23863     Mario Lemieux*    C   PIT    1989  85\n",
              "21170  Alexander Mogilny   RW   BUF    1993  76\n",
              "21173      Teemu Selanne   RW   WIN    1993  76\n",
              "33047     Phil Esposito*    C   BOS    1971  76\n",
              "26381     Wayne Gretzky*    C   EDM    1985  73\n",
              "23196        Brett Hull*   RW   STL    1990  72\n",
              "26380        Jari Kurri*   RW   EDM    1985  71"
            ]
          },
          "metadata": {
            "tags": []
          },
          "execution_count": 21
        }
      ]
    },
    {
      "cell_type": "markdown",
      "metadata": {
        "id": "_HYS0tOIQKlz",
        "colab_type": "text"
      },
      "source": [
        "* Looks like Wayne Gretzky has the most goals scored in a single season.  \n",
        "* In 1982, he scored 92 goals.  That's a lot of goals!\n",
        "* He also has the second place position, as well as the 8th.  That is nothing to sneeze at."
      ]
    },
    {
      "cell_type": "markdown",
      "metadata": {
        "id": "DTkDPC6jpuEO",
        "colab_type": "text"
      },
      "source": [
        "### Which Goalie scored the most goals?\n"
      ]
    },
    {
      "cell_type": "markdown",
      "metadata": {
        "id": "Kl3VM0fQPr9X",
        "colab_type": "text"
      },
      "source": [
        "* First Let's find out what the Goalie position is abreviated in the dataset:"
      ]
    },
    {
      "cell_type": "code",
      "metadata": {
        "id": "hfI7yc1XOzki",
        "colab_type": "code",
        "colab": {
          "base_uri": "https://localhost:8080/",
          "height": 90
        },
        "outputId": "9e989256-ca79-4a8d-ee4c-20acf095aa77"
      },
      "source": [
        "skaters['Pos'].unique()"
      ],
      "execution_count": 22,
      "outputs": [
        {
          "output_type": "execute_result",
          "data": {
            "text/plain": [
              "array([' LW ', ' C ', ' RW ', ' D ', ' RW/LW ', ' LW/RW ', ' RW/C ',\n",
              "       ' C/LW ', ' LW/C ', ' LW/D ', ' RW/D ', ' C/RW ', ' C/RW/ ',\n",
              "       ' D/LW ', ' C/LW/ ', ' D/RW ', ' F ', ' W/D ', ' W ', ' C/D '],\n",
              "      dtype=object)"
            ]
          },
          "metadata": {
            "tags": []
          },
          "execution_count": 22
        }
      ]
    },
    {
      "cell_type": "markdown",
      "metadata": {
        "id": "mru3WrqTP421",
        "colab_type": "text"
      },
      "source": [
        "* Well dang, it doesn't look like we have any goalies in this data.  \n",
        "* This question can't be answered with our data.  Bummer."
      ]
    },
    {
      "cell_type": "markdown",
      "metadata": {
        "id": "IvFNnvPR19mS",
        "colab_type": "text"
      },
      "source": [
        "### Player with most career Goals?"
      ]
    },
    {
      "cell_type": "code",
      "metadata": {
        "id": "1iIYB_gm9UUL",
        "colab_type": "code",
        "colab": {
          "base_uri": "https://localhost:8080/",
          "height": 235
        },
        "outputId": "78b0ea38-a24a-4a40-e446-61ac73e7e29f"
      },
      "source": [
        "skaters.groupby(by='Player')['G'].sum().sort_values(ascending=False).head(10)"
      ],
      "execution_count": 23,
      "outputs": [
        {
          "output_type": "execute_result",
          "data": {
            "text/plain": [
              "Player\n",
              "Wayne Gretzky*    894\n",
              "Gordie Howe*      801\n",
              "Jaromir Jagr      766\n",
              "Brett Hull*       741\n",
              "Marcel Dionne*    731\n",
              "Phil Esposito*    717\n",
              "Mike Gartner*     708\n",
              "Mark Messier*     694\n",
              "Steve Yzerman*    692\n",
              "Mario Lemieux*    690\n",
              "Name: G, dtype: int64"
            ]
          },
          "metadata": {
            "tags": []
          },
          "execution_count": 23
        }
      ]
    },
    {
      "cell_type": "markdown",
      "metadata": {
        "id": "4GbRT1fzX4PB",
        "colab_type": "text"
      },
      "source": [
        "* Looks like Gretzky has the most Career Goals!\n",
        "* Want to see Career Points?  Me too."
      ]
    },
    {
      "cell_type": "code",
      "metadata": {
        "id": "ppj86k3cYEol",
        "colab_type": "code",
        "colab": {
          "base_uri": "https://localhost:8080/",
          "height": 235
        },
        "outputId": "16489cb9-0e2e-485e-e32c-2db5b7619457"
      },
      "source": [
        "skaters.groupby(by='Player')['PTS'].sum().sort_values(ascending=False).head(10)"
      ],
      "execution_count": 24,
      "outputs": [
        {
          "output_type": "execute_result",
          "data": {
            "text/plain": [
              "Player\n",
              "Wayne Gretzky*    2857\n",
              "Jaromir Jagr      1921\n",
              "Mark Messier*     1887\n",
              "Gordie Howe*      1850\n",
              "Ron Francis*      1798\n",
              "Marcel Dionne*    1771\n",
              "Steve Yzerman*    1755\n",
              "Mario Lemieux*    1723\n",
              "Joe Sakic*        1641\n",
              "Phil Esposito*    1590\n",
              "Name: PTS, dtype: int64"
            ]
          },
          "metadata": {
            "tags": []
          },
          "execution_count": 24
        }
      ]
    },
    {
      "cell_type": "markdown",
      "metadata": {
        "id": "P3rtu2Qop84r",
        "colab_type": "text"
      },
      "source": [
        "### Which Ranger has the highest Pts?\n"
      ]
    },
    {
      "cell_type": "markdown",
      "metadata": {
        "id": "UzsjCu6EmI1_",
        "colab_type": "text"
      },
      "source": [
        "* I have always been a Rangers fan, so why not learn a little about the team."
      ]
    },
    {
      "cell_type": "code",
      "metadata": {
        "id": "PPVLvHR8Y0Ux",
        "colab_type": "code",
        "colab": {}
      },
      "source": [
        "team = \"NYR\""
      ],
      "execution_count": 0,
      "outputs": []
    },
    {
      "cell_type": "markdown",
      "metadata": {
        "id": "qeJy55cbYq1m",
        "colab_type": "text"
      },
      "source": [
        "* Let's look at a single season first:"
      ]
    },
    {
      "cell_type": "code",
      "metadata": {
        "id": "BnhgP_gAU4m9",
        "colab_type": "code",
        "colab": {
          "base_uri": "https://localhost:8080/",
          "height": 313
        },
        "outputId": "e565ff64-de90-4108-871c-952c253c1fa7"
      },
      "source": [
        "skaters[ skaters['Tm'] == team].sort_values(by='PTS', ascending=False).head(5)"
      ],
      "execution_count": 26,
      "outputs": [
        {
          "output_type": "execute_result",
          "data": {
            "text/html": [
              "<div>\n",
              "<style scoped>\n",
              "    .dataframe tbody tr th:only-of-type {\n",
              "        vertical-align: middle;\n",
              "    }\n",
              "\n",
              "    .dataframe tbody tr th {\n",
              "        vertical-align: top;\n",
              "    }\n",
              "\n",
              "    .dataframe thead th {\n",
              "        text-align: right;\n",
              "    }\n",
              "</style>\n",
              "<table border=\"1\" class=\"dataframe\">\n",
              "  <thead>\n",
              "    <tr style=\"text-align: right;\">\n",
              "      <th></th>\n",
              "      <th>Key</th>\n",
              "      <th>Season</th>\n",
              "      <th>Player</th>\n",
              "      <th>Age</th>\n",
              "      <th>Tm</th>\n",
              "      <th>Pos</th>\n",
              "      <th>GP</th>\n",
              "      <th>G</th>\n",
              "      <th>GPG</th>\n",
              "      <th>A</th>\n",
              "      <th>PTS</th>\n",
              "      <th>+/-</th>\n",
              "      <th>PIM</th>\n",
              "      <th>EVG</th>\n",
              "      <th>PPG</th>\n",
              "      <th>SHG</th>\n",
              "      <th>GWG</th>\n",
              "      <th>EVA</th>\n",
              "      <th>PPA</th>\n",
              "      <th>SHA</th>\n",
              "      <th>S</th>\n",
              "      <th>S%</th>\n",
              "      <th>TOI</th>\n",
              "      <th>ATOI</th>\n",
              "      <th>BLK</th>\n",
              "      <th>HIT</th>\n",
              "      <th>FOwin</th>\n",
              "      <th>FOloss</th>\n",
              "      <th>FO%</th>\n",
              "    </tr>\n",
              "  </thead>\n",
              "  <tbody>\n",
              "    <tr>\n",
              "      <th>10543</th>\n",
              "      <td>2006Jaromir Jagr</td>\n",
              "      <td>2006</td>\n",
              "      <td>Jaromir Jagr</td>\n",
              "      <td>33.0</td>\n",
              "      <td>NYR</td>\n",
              "      <td>RW</td>\n",
              "      <td>82</td>\n",
              "      <td>54</td>\n",
              "      <td>0.6585</td>\n",
              "      <td>69</td>\n",
              "      <td>123</td>\n",
              "      <td>34.0</td>\n",
              "      <td>72.0</td>\n",
              "      <td>30.0</td>\n",
              "      <td>24.0</td>\n",
              "      <td>0.0</td>\n",
              "      <td>9.0</td>\n",
              "      <td>41.0</td>\n",
              "      <td>28.0</td>\n",
              "      <td>0.0</td>\n",
              "      <td>368.0</td>\n",
              "      <td>15.0</td>\n",
              "      <td>1810.0</td>\n",
              "      <td>22:05:00</td>\n",
              "      <td>0.0</td>\n",
              "      <td>0.0</td>\n",
              "      <td>0.0</td>\n",
              "      <td>0.0</td>\n",
              "      <td>0.0</td>\n",
              "    </tr>\n",
              "    <tr>\n",
              "      <th>32700</th>\n",
              "      <td>1972Jean Ratelle*</td>\n",
              "      <td>1972</td>\n",
              "      <td>Jean Ratelle*</td>\n",
              "      <td>31.0</td>\n",
              "      <td>NYR</td>\n",
              "      <td>C</td>\n",
              "      <td>63</td>\n",
              "      <td>46</td>\n",
              "      <td>0.7302</td>\n",
              "      <td>63</td>\n",
              "      <td>109</td>\n",
              "      <td>61.0</td>\n",
              "      <td>4.0</td>\n",
              "      <td>40.0</td>\n",
              "      <td>5.0</td>\n",
              "      <td>1.0</td>\n",
              "      <td>6.0</td>\n",
              "      <td>45.0</td>\n",
              "      <td>18.0</td>\n",
              "      <td>0.0</td>\n",
              "      <td>183.0</td>\n",
              "      <td>25.0</td>\n",
              "      <td>0.0</td>\n",
              "      <td>0</td>\n",
              "      <td>0.0</td>\n",
              "      <td>0.0</td>\n",
              "      <td>0.0</td>\n",
              "      <td>0.0</td>\n",
              "      <td>0.0</td>\n",
              "    </tr>\n",
              "    <tr>\n",
              "      <th>21882</th>\n",
              "      <td>1992Mark Messier*</td>\n",
              "      <td>1992</td>\n",
              "      <td>Mark Messier*</td>\n",
              "      <td>31.0</td>\n",
              "      <td>NYR</td>\n",
              "      <td>C</td>\n",
              "      <td>79</td>\n",
              "      <td>35</td>\n",
              "      <td>0.4430</td>\n",
              "      <td>72</td>\n",
              "      <td>107</td>\n",
              "      <td>31.0</td>\n",
              "      <td>76.0</td>\n",
              "      <td>19.0</td>\n",
              "      <td>12.0</td>\n",
              "      <td>4.0</td>\n",
              "      <td>6.0</td>\n",
              "      <td>46.0</td>\n",
              "      <td>21.0</td>\n",
              "      <td>5.0</td>\n",
              "      <td>212.0</td>\n",
              "      <td>17.0</td>\n",
              "      <td>0.0</td>\n",
              "      <td>0</td>\n",
              "      <td>0.0</td>\n",
              "      <td>0.0</td>\n",
              "      <td>0.0</td>\n",
              "      <td>0.0</td>\n",
              "      <td>0.0</td>\n",
              "    </tr>\n",
              "    <tr>\n",
              "      <th>32699</th>\n",
              "      <td>1972Vic Hadfield</td>\n",
              "      <td>1972</td>\n",
              "      <td>Vic Hadfield</td>\n",
              "      <td>31.0</td>\n",
              "      <td>NYR</td>\n",
              "      <td>LW</td>\n",
              "      <td>78</td>\n",
              "      <td>50</td>\n",
              "      <td>0.6410</td>\n",
              "      <td>56</td>\n",
              "      <td>106</td>\n",
              "      <td>60.0</td>\n",
              "      <td>142.0</td>\n",
              "      <td>27.0</td>\n",
              "      <td>23.0</td>\n",
              "      <td>0.0</td>\n",
              "      <td>7.0</td>\n",
              "      <td>44.0</td>\n",
              "      <td>12.0</td>\n",
              "      <td>0.0</td>\n",
              "      <td>242.0</td>\n",
              "      <td>21.0</td>\n",
              "      <td>0.0</td>\n",
              "      <td>0</td>\n",
              "      <td>0.0</td>\n",
              "      <td>0.0</td>\n",
              "      <td>0.0</td>\n",
              "      <td>0.0</td>\n",
              "      <td>0.0</td>\n",
              "    </tr>\n",
              "    <tr>\n",
              "      <th>28207</th>\n",
              "      <td>1982Mike Rogers</td>\n",
              "      <td>1982</td>\n",
              "      <td>Mike Rogers</td>\n",
              "      <td>27.0</td>\n",
              "      <td>NYR</td>\n",
              "      <td>C</td>\n",
              "      <td>80</td>\n",
              "      <td>38</td>\n",
              "      <td>0.4750</td>\n",
              "      <td>65</td>\n",
              "      <td>103</td>\n",
              "      <td>2.0</td>\n",
              "      <td>43.0</td>\n",
              "      <td>31.0</td>\n",
              "      <td>6.0</td>\n",
              "      <td>1.0</td>\n",
              "      <td>2.0</td>\n",
              "      <td>36.0</td>\n",
              "      <td>29.0</td>\n",
              "      <td>0.0</td>\n",
              "      <td>213.0</td>\n",
              "      <td>18.0</td>\n",
              "      <td>0.0</td>\n",
              "      <td>0</td>\n",
              "      <td>0.0</td>\n",
              "      <td>0.0</td>\n",
              "      <td>0.0</td>\n",
              "      <td>0.0</td>\n",
              "      <td>0.0</td>\n",
              "    </tr>\n",
              "  </tbody>\n",
              "</table>\n",
              "</div>"
            ],
            "text/plain": [
              "                     Key  Season         Player   Age  ...  HIT FOwin  FOloss  FO%\n",
              "10543   2006Jaromir Jagr    2006   Jaromir Jagr  33.0  ...  0.0   0.0     0.0  0.0\n",
              "32700  1972Jean Ratelle*    1972  Jean Ratelle*  31.0  ...  0.0   0.0     0.0  0.0\n",
              "21882  1992Mark Messier*    1992  Mark Messier*  31.0  ...  0.0   0.0     0.0  0.0\n",
              "32699   1972Vic Hadfield    1972   Vic Hadfield  31.0  ...  0.0   0.0     0.0  0.0\n",
              "28207    1982Mike Rogers    1982    Mike Rogers  27.0  ...  0.0   0.0     0.0  0.0\n",
              "\n",
              "[5 rows x 29 columns]"
            ]
          },
          "metadata": {
            "tags": []
          },
          "execution_count": 26
        }
      ]
    },
    {
      "cell_type": "markdown",
      "metadata": {
        "id": "_F9D-vtGYv-v",
        "colab_type": "text"
      },
      "source": [
        "* How about for a career:"
      ]
    },
    {
      "cell_type": "code",
      "metadata": {
        "id": "k5yHkXYeY9yQ",
        "colab_type": "code",
        "colab": {
          "base_uri": "https://localhost:8080/",
          "height": 344
        },
        "outputId": "64b1e472-77e4-4690-8a01-cbfa68c30023"
      },
      "source": [
        "skaters[ skaters['Tm'] == team].groupby('Player').sum().sort_values(by='PTS', ascending=False).head(5)"
      ],
      "execution_count": 27,
      "outputs": [
        {
          "output_type": "execute_result",
          "data": {
            "text/html": [
              "<div>\n",
              "<style scoped>\n",
              "    .dataframe tbody tr th:only-of-type {\n",
              "        vertical-align: middle;\n",
              "    }\n",
              "\n",
              "    .dataframe tbody tr th {\n",
              "        vertical-align: top;\n",
              "    }\n",
              "\n",
              "    .dataframe thead th {\n",
              "        text-align: right;\n",
              "    }\n",
              "</style>\n",
              "<table border=\"1\" class=\"dataframe\">\n",
              "  <thead>\n",
              "    <tr style=\"text-align: right;\">\n",
              "      <th></th>\n",
              "      <th>Season</th>\n",
              "      <th>Age</th>\n",
              "      <th>GP</th>\n",
              "      <th>G</th>\n",
              "      <th>GPG</th>\n",
              "      <th>A</th>\n",
              "      <th>PTS</th>\n",
              "      <th>+/-</th>\n",
              "      <th>PIM</th>\n",
              "      <th>EVG</th>\n",
              "      <th>PPG</th>\n",
              "      <th>SHG</th>\n",
              "      <th>GWG</th>\n",
              "      <th>EVA</th>\n",
              "      <th>PPA</th>\n",
              "      <th>SHA</th>\n",
              "      <th>S</th>\n",
              "      <th>S%</th>\n",
              "      <th>TOI</th>\n",
              "      <th>BLK</th>\n",
              "      <th>HIT</th>\n",
              "      <th>FOwin</th>\n",
              "      <th>FOloss</th>\n",
              "      <th>FO%</th>\n",
              "    </tr>\n",
              "    <tr>\n",
              "      <th>Player</th>\n",
              "      <th></th>\n",
              "      <th></th>\n",
              "      <th></th>\n",
              "      <th></th>\n",
              "      <th></th>\n",
              "      <th></th>\n",
              "      <th></th>\n",
              "      <th></th>\n",
              "      <th></th>\n",
              "      <th></th>\n",
              "      <th></th>\n",
              "      <th></th>\n",
              "      <th></th>\n",
              "      <th></th>\n",
              "      <th></th>\n",
              "      <th></th>\n",
              "      <th></th>\n",
              "      <th></th>\n",
              "      <th></th>\n",
              "      <th></th>\n",
              "      <th></th>\n",
              "      <th></th>\n",
              "      <th></th>\n",
              "      <th></th>\n",
              "    </tr>\n",
              "  </thead>\n",
              "  <tbody>\n",
              "    <tr>\n",
              "      <th>Rod Gilbert*</th>\n",
              "      <td>35451</td>\n",
              "      <td>495.0</td>\n",
              "      <td>1065</td>\n",
              "      <td>406</td>\n",
              "      <td>5.8588</td>\n",
              "      <td>615</td>\n",
              "      <td>1021</td>\n",
              "      <td>89.0</td>\n",
              "      <td>508.0</td>\n",
              "      <td>287.0</td>\n",
              "      <td>108.0</td>\n",
              "      <td>0.0</td>\n",
              "      <td>50.0</td>\n",
              "      <td>317.0</td>\n",
              "      <td>168.0</td>\n",
              "      <td>0.0</td>\n",
              "      <td>2291.0</td>\n",
              "      <td>145.0</td>\n",
              "      <td>0.0</td>\n",
              "      <td>0.0</td>\n",
              "      <td>0.0</td>\n",
              "      <td>0.0</td>\n",
              "      <td>0.0</td>\n",
              "      <td>0.0</td>\n",
              "    </tr>\n",
              "    <tr>\n",
              "      <th>Brian Leetch*</th>\n",
              "      <td>31928</td>\n",
              "      <td>424.0</td>\n",
              "      <td>1072</td>\n",
              "      <td>227</td>\n",
              "      <td>3.2740</td>\n",
              "      <td>718</td>\n",
              "      <td>945</td>\n",
              "      <td>29.0</td>\n",
              "      <td>501.0</td>\n",
              "      <td>118.0</td>\n",
              "      <td>102.0</td>\n",
              "      <td>7.0</td>\n",
              "      <td>36.0</td>\n",
              "      <td>312.0</td>\n",
              "      <td>393.0</td>\n",
              "      <td>13.0</td>\n",
              "      <td>3304.0</td>\n",
              "      <td>107.0</td>\n",
              "      <td>9655.0</td>\n",
              "      <td>0.0</td>\n",
              "      <td>0.0</td>\n",
              "      <td>0.0</td>\n",
              "      <td>0.0</td>\n",
              "      <td>0.0</td>\n",
              "    </tr>\n",
              "    <tr>\n",
              "      <th>Jean Ratelle*</th>\n",
              "      <td>29520</td>\n",
              "      <td>405.0</td>\n",
              "      <td>849</td>\n",
              "      <td>331</td>\n",
              "      <td>5.4863</td>\n",
              "      <td>471</td>\n",
              "      <td>802</td>\n",
              "      <td>166.0</td>\n",
              "      <td>190.0</td>\n",
              "      <td>233.0</td>\n",
              "      <td>79.0</td>\n",
              "      <td>2.0</td>\n",
              "      <td>41.0</td>\n",
              "      <td>274.0</td>\n",
              "      <td>116.0</td>\n",
              "      <td>0.0</td>\n",
              "      <td>1579.0</td>\n",
              "      <td>140.0</td>\n",
              "      <td>0.0</td>\n",
              "      <td>0.0</td>\n",
              "      <td>0.0</td>\n",
              "      <td>0.0</td>\n",
              "      <td>0.0</td>\n",
              "      <td>0.0</td>\n",
              "    </tr>\n",
              "    <tr>\n",
              "      <th>Mark Messier*</th>\n",
              "      <td>19977</td>\n",
              "      <td>367.0</td>\n",
              "      <td>698</td>\n",
              "      <td>250</td>\n",
              "      <td>3.4958</td>\n",
              "      <td>441</td>\n",
              "      <td>691</td>\n",
              "      <td>74.0</td>\n",
              "      <td>667.0</td>\n",
              "      <td>155.0</td>\n",
              "      <td>72.0</td>\n",
              "      <td>23.0</td>\n",
              "      <td>41.0</td>\n",
              "      <td>253.0</td>\n",
              "      <td>160.0</td>\n",
              "      <td>28.0</td>\n",
              "      <td>1658.0</td>\n",
              "      <td>148.0</td>\n",
              "      <td>5043.0</td>\n",
              "      <td>0.0</td>\n",
              "      <td>0.0</td>\n",
              "      <td>0.0</td>\n",
              "      <td>0.0</td>\n",
              "      <td>0.0</td>\n",
              "    </tr>\n",
              "    <tr>\n",
              "      <th>Walt Tkaczuk</th>\n",
              "      <td>27643</td>\n",
              "      <td>371.0</td>\n",
              "      <td>945</td>\n",
              "      <td>227</td>\n",
              "      <td>3.0761</td>\n",
              "      <td>451</td>\n",
              "      <td>678</td>\n",
              "      <td>185.0</td>\n",
              "      <td>556.0</td>\n",
              "      <td>175.0</td>\n",
              "      <td>41.0</td>\n",
              "      <td>11.0</td>\n",
              "      <td>23.0</td>\n",
              "      <td>363.0</td>\n",
              "      <td>70.0</td>\n",
              "      <td>18.0</td>\n",
              "      <td>2146.0</td>\n",
              "      <td>134.0</td>\n",
              "      <td>0.0</td>\n",
              "      <td>0.0</td>\n",
              "      <td>0.0</td>\n",
              "      <td>0.0</td>\n",
              "      <td>0.0</td>\n",
              "      <td>0.0</td>\n",
              "    </tr>\n",
              "  </tbody>\n",
              "</table>\n",
              "</div>"
            ],
            "text/plain": [
              "               Season    Age    GP    G     GPG  ...  BLK  HIT  FOwin  FOloss  FO%\n",
              "Player                                           ...                              \n",
              "Rod Gilbert*    35451  495.0  1065  406  5.8588  ...  0.0  0.0    0.0     0.0  0.0\n",
              "Brian Leetch*   31928  424.0  1072  227  3.2740  ...  0.0  0.0    0.0     0.0  0.0\n",
              "Jean Ratelle*   29520  405.0   849  331  5.4863  ...  0.0  0.0    0.0     0.0  0.0\n",
              "Mark Messier*   19977  367.0   698  250  3.4958  ...  0.0  0.0    0.0     0.0  0.0\n",
              "Walt Tkaczuk    27643  371.0   945  227  3.0761  ...  0.0  0.0    0.0     0.0  0.0\n",
              "\n",
              "[5 rows x 24 columns]"
            ]
          },
          "metadata": {
            "tags": []
          },
          "execution_count": 27
        }
      ]
    },
    {
      "cell_type": "markdown",
      "metadata": {
        "id": "ManftRQrp_cO",
        "colab_type": "text"
      },
      "source": [
        "## Graph the following:\n"
      ]
    },
    {
      "cell_type": "markdown",
      "metadata": {
        "id": "figH1Yiap63O",
        "colab_type": "text"
      },
      "source": [
        "### What age do players score the most goals?\n"
      ]
    },
    {
      "cell_type": "code",
      "metadata": {
        "id": "ottXWy1kk-tM",
        "colab_type": "code",
        "colab": {
          "base_uri": "https://localhost:8080/",
          "height": 310
        },
        "outputId": "8d62b916-060d-46c5-912c-7a31ffa75cae"
      },
      "source": [
        "goal_age = skaters.groupby(by='Age')['G'].sum()\n",
        "\n",
        "goal_age.plot(kind='bar', x='Age', y='G')"
      ],
      "execution_count": 28,
      "outputs": [
        {
          "output_type": "execute_result",
          "data": {
            "text/plain": [
              "<matplotlib.axes._subplots.AxesSubplot at 0x7fe154729940>"
            ]
          },
          "metadata": {
            "tags": []
          },
          "execution_count": 28
        },
        {
          "output_type": "display_data",
          "data": {
            "image/png": "[encoded data removed]",
            "text/plain": [
              "<Figure size 432x288 with 1 Axes>"
            ]
          },
          "metadata": {
            "tags": []
          }
        }
      ]
    },
    {
      "cell_type": "markdown",
      "metadata": {
        "id": "L_7_MICH1v21",
        "colab_type": "text"
      },
      "source": [
        "### Year most goals were scored"
      ]
    },
    {
      "cell_type": "code",
      "metadata": {
        "id": "51eir_pqdPwN",
        "colab_type": "code",
        "colab": {
          "base_uri": "https://localhost:8080/",
          "height": 297
        },
        "outputId": "798c583d-030f-4b6a-8627-aca38eb162af"
      },
      "source": [
        "goals_per_year = skaters.groupby(by='Season').sum()['G']\n",
        "\n",
        "goals_per_year.plot(kind='line', x='Season', y='G')"
      ],
      "execution_count": 29,
      "outputs": [
        {
          "output_type": "execute_result",
          "data": {
            "text/plain": [
              "<matplotlib.axes._subplots.AxesSubplot at 0x7fe154444390>"
            ]
          },
          "metadata": {
            "tags": []
          },
          "execution_count": 29
        },
        {
          "output_type": "display_data",
          "data": {
            "image/png": "[encoded data removed]",
            "text/plain": [
              "<Figure size 432x288 with 1 Axes>"
            ]
          },
          "metadata": {
            "tags": []
          }
        }
      ]
    },
    {
      "cell_type": "markdown",
      "metadata": {
        "id": "bCFtBYkwf3B3",
        "colab_type": "text"
      },
      "source": [
        "* I was trying to figure out how to solve this, and came upon an anomoli:"
      ]
    },
    {
      "cell_type": "code",
      "metadata": {
        "id": "-TjMl-8qgA7I",
        "colab_type": "code",
        "colab": {
          "base_uri": "https://localhost:8080/",
          "height": 297
        },
        "outputId": "3d97a3ec-ffb6-4fab-a60e-014cc6d911d6"
      },
      "source": [
        "skaters.plot(kind='scatter', x='Season', y='G')"
      ],
      "execution_count": 30,
      "outputs": [
        {
          "output_type": "execute_result",
          "data": {
            "text/plain": [
              "<matplotlib.axes._subplots.AxesSubplot at 0x7fe153fd2d30>"
            ]
          },
          "metadata": {
            "tags": []
          },
          "execution_count": 30
        },
        {
          "output_type": "display_data",
          "data": {
            "image/png": "[encoded data removed]",
            "text/plain": [
              "<Figure size 432x288 with 1 Axes>"
            ]
          },
          "metadata": {
            "tags": []
          }
        }
      ]
    },
    {
      "cell_type": "markdown",
      "metadata": {
        "id": "nv0kISmUgKjS",
        "colab_type": "text"
      },
      "source": [
        "It appears that no goals were scored by anyone in ~2005.  Then it dawned on me... that was the year that the NHL season was cancelled.  I had totally forgotten about that.  \n",
        "\n",
        "(The graph plots all the players and the number of goals they scored each season.  This is clearly not what the original question asked, but it did show an anomoli, so I am shareing it.)"
      ]
    },
    {
      "cell_type": "markdown",
      "metadata": {
        "id": "gnDPclPmqECG",
        "colab_type": "text"
      },
      "source": [
        "### Teams with the players that scored the most points"
      ]
    },
    {
      "cell_type": "code",
      "metadata": {
        "id": "IX0b9ErRlJJm",
        "colab_type": "code",
        "colab": {
          "base_uri": "https://localhost:8080/",
          "height": 610
        },
        "outputId": "9323aed6-fed0-4a32-9200-5b60de2e0b1c"
      },
      "source": [
        "team_points = skaters.groupby('Tm')['PTS'].sum()\n",
        "\n",
        "team_points.plot(kind='barh', x='Tm', y='PTS', figsize=(10,10))"
      ],
      "execution_count": 31,
      "outputs": [
        {
          "output_type": "execute_result",
          "data": {
            "text/plain": [
              "<matplotlib.axes._subplots.AxesSubplot at 0x7fe154731d68>"
            ]
          },
          "metadata": {
            "tags": []
          },
          "execution_count": 31
        },
        {
          "output_type": "display_data",
          "data": {
            "image/png": "[encoded data removed]",
            "text/plain": [
              "<Figure size 720x720 with 1 Axes>"
            ]
          },
          "metadata": {
            "tags": []
          }
        }
      ]
    },
    {
      "cell_type": "markdown",
      "metadata": {
        "id": "nr28FaDwv2cI",
        "colab_type": "text"
      },
      "source": [
        "* TOT isn't a team I know of. Is it a Total for a player for a season?  Let's look at a players career to see:"
      ]
    },
    {
      "cell_type": "code",
      "metadata": {
        "id": "r7FfP8VZwEoR",
        "colab_type": "code",
        "colab": {
          "base_uri": "https://localhost:8080/",
          "height": 167
        },
        "outputId": "0128db2c-94a1-45fb-b40a-4fe7dfc8942f"
      },
      "source": [
        "skaters[ skaters['Player'] == 'Pontus Aberg' ]"
      ],
      "execution_count": 32,
      "outputs": [
        {
          "output_type": "execute_result",
          "data": {
            "text/html": [
              "<div>\n",
              "<style scoped>\n",
              "    .dataframe tbody tr th:only-of-type {\n",
              "        vertical-align: middle;\n",
              "    }\n",
              "\n",
              "    .dataframe tbody tr th {\n",
              "        vertical-align: top;\n",
              "    }\n",
              "\n",
              "    .dataframe thead th {\n",
              "        text-align: right;\n",
              "    }\n",
              "</style>\n",
              "<table border=\"1\" class=\"dataframe\">\n",
              "  <thead>\n",
              "    <tr style=\"text-align: right;\">\n",
              "      <th></th>\n",
              "      <th>Key</th>\n",
              "      <th>Season</th>\n",
              "      <th>Player</th>\n",
              "      <th>Age</th>\n",
              "      <th>Tm</th>\n",
              "      <th>Pos</th>\n",
              "      <th>GP</th>\n",
              "      <th>G</th>\n",
              "      <th>GPG</th>\n",
              "      <th>A</th>\n",
              "      <th>PTS</th>\n",
              "      <th>+/-</th>\n",
              "      <th>PIM</th>\n",
              "      <th>EVG</th>\n",
              "      <th>PPG</th>\n",
              "      <th>SHG</th>\n",
              "      <th>GWG</th>\n",
              "      <th>EVA</th>\n",
              "      <th>PPA</th>\n",
              "      <th>SHA</th>\n",
              "      <th>S</th>\n",
              "      <th>S%</th>\n",
              "      <th>TOI</th>\n",
              "      <th>ATOI</th>\n",
              "      <th>BLK</th>\n",
              "      <th>HIT</th>\n",
              "      <th>FOwin</th>\n",
              "      <th>FOloss</th>\n",
              "      <th>FO%</th>\n",
              "    </tr>\n",
              "  </thead>\n",
              "  <tbody>\n",
              "    <tr>\n",
              "      <th>1</th>\n",
              "      <td>2018Pontus Aberg</td>\n",
              "      <td>2018</td>\n",
              "      <td>Pontus Aberg</td>\n",
              "      <td>24.0</td>\n",
              "      <td>TOT</td>\n",
              "      <td>LW</td>\n",
              "      <td>53</td>\n",
              "      <td>4</td>\n",
              "      <td>0.0755</td>\n",
              "      <td>12</td>\n",
              "      <td>16</td>\n",
              "      <td>9.0</td>\n",
              "      <td>10.0</td>\n",
              "      <td>4.0</td>\n",
              "      <td>0.0</td>\n",
              "      <td>0.0</td>\n",
              "      <td>3.0</td>\n",
              "      <td>11.0</td>\n",
              "      <td>1.0</td>\n",
              "      <td>0.0</td>\n",
              "      <td>70.0</td>\n",
              "      <td>6.0</td>\n",
              "      <td>645.0</td>\n",
              "      <td>12:10:00</td>\n",
              "      <td>8.0</td>\n",
              "      <td>24.0</td>\n",
              "      <td>4.0</td>\n",
              "      <td>8.0</td>\n",
              "      <td>33.3</td>\n",
              "    </tr>\n",
              "    <tr>\n",
              "      <th>892</th>\n",
              "      <td>2017Pontus Aberg</td>\n",
              "      <td>2017</td>\n",
              "      <td>Pontus Aberg</td>\n",
              "      <td>23.0</td>\n",
              "      <td>NSH</td>\n",
              "      <td>LW</td>\n",
              "      <td>15</td>\n",
              "      <td>1</td>\n",
              "      <td>0.0667</td>\n",
              "      <td>1</td>\n",
              "      <td>2</td>\n",
              "      <td>-2.0</td>\n",
              "      <td>4.0</td>\n",
              "      <td>1.0</td>\n",
              "      <td>0.0</td>\n",
              "      <td>0.0</td>\n",
              "      <td>0.0</td>\n",
              "      <td>1.0</td>\n",
              "      <td>0.0</td>\n",
              "      <td>0.0</td>\n",
              "      <td>12.0</td>\n",
              "      <td>8.0</td>\n",
              "      <td>185.0</td>\n",
              "      <td>12:20:00</td>\n",
              "      <td>2.0</td>\n",
              "      <td>9.0</td>\n",
              "      <td>1.0</td>\n",
              "      <td>0.0</td>\n",
              "      <td>100.0</td>\n",
              "    </tr>\n",
              "  </tbody>\n",
              "</table>\n",
              "</div>"
            ],
            "text/plain": [
              "                  Key  Season        Player   Age  ...   HIT FOwin  FOloss    FO%\n",
              "1    2018Pontus Aberg    2018  Pontus Aberg  24.0  ...  24.0   4.0     8.0   33.3\n",
              "892  2017Pontus Aberg    2017  Pontus Aberg  23.0  ...   9.0   1.0     0.0  100.0\n",
              "\n",
              "[2 rows x 29 columns]"
            ]
          },
          "metadata": {
            "tags": []
          },
          "execution_count": 32
        }
      ]
    },
    {
      "cell_type": "markdown",
      "metadata": {
        "id": "IR8W5MJNz4wc",
        "colab_type": "text"
      },
      "source": [
        "Well, that doesn't help.  I guess we should ignore it."
      ]
    },
    {
      "cell_type": "markdown",
      "metadata": {
        "id": "fkXANKuIqFxC",
        "colab_type": "text"
      },
      "source": [
        "### Goals per year for the player of your choice"
      ]
    },
    {
      "cell_type": "markdown",
      "metadata": {
        "id": "slDQYmOSygrL",
        "colab_type": "text"
      },
      "source": [
        "Let's make this one more interactive.  We will have a function ask for your prefered player, and then we will graph the results."
      ]
    },
    {
      "cell_type": "code",
      "metadata": {
        "colab_type": "code",
        "id": "5gz8S1UxHZB5",
        "colab": {}
      },
      "source": [
        "def name_check(prompt):\n",
        "  p_name = input(prompt)\n",
        "  col = set(skaters['Player'])\n",
        "  try:\n",
        "    if p_name in col:\n",
        "      print(f'{p_name} is in column') \n",
        "      return p_name\n",
        "    else:\n",
        "      p_name = p_name + \"*\" \n",
        "      if p_name in set(col):\n",
        "        print(f'{p_name} is in column') \n",
        "        return p_name\n",
        "\n",
        "  except:\n",
        "    print('The Name you are looking for caused an error')\n",
        "  print('The name you entered is not in the dataset')\n"
      ],
      "execution_count": 0,
      "outputs": []
    },
    {
      "cell_type": "markdown",
      "metadata": {
        "id": "NJovNOjDu9We",
        "colab_type": "text"
      },
      "source": [
        "Some players to try:\n",
        "\n",
        "    Mark Messier\n",
        "    Wayne Gretzky\n",
        "    Jaromir Jagr\n"
      ]
    },
    {
      "cell_type": "code",
      "metadata": {
        "id": "bh_1A10FY31t",
        "colab_type": "code",
        "colab": {
          "base_uri": "https://localhost:8080/",
          "height": 72
        },
        "outputId": "acf5559d-75e1-4126-d0b4-cb64cf45c0b1"
      },
      "source": [
        "player_name = name_check(\"Enter the player to graph: \\n\")"
      ],
      "execution_count": 34,
      "outputs": [
        {
          "output_type": "stream",
          "text": [
            "Enter the player to graph: \n",
            "Jaromir Jagr\n",
            "Jaromir Jagr is in column\n"
          ],
          "name": "stdout"
        }
      ]
    },
    {
      "cell_type": "code",
      "metadata": {
        "id": "-11YQ6tp1MDB",
        "colab_type": "code",
        "colab": {
          "base_uri": "https://localhost:8080/",
          "height": 297
        },
        "outputId": "ff3e4428-858b-45f7-f741-22f3d980bd41"
      },
      "source": [
        "skaters[skaters['Player'] == player_name].plot(kind='line', x='Season', y='G').legend(title=player_name)"
      ],
      "execution_count": 35,
      "outputs": [
        {
          "output_type": "execute_result",
          "data": {
            "text/plain": [
              "<matplotlib.legend.Legend at 0x7fe151568be0>"
            ]
          },
          "metadata": {
            "tags": []
          },
          "execution_count": 35
        },
        {
          "output_type": "display_data",
          "data": {
            "image/png": "[encoded data removed]",
            "text/plain": [
              "<Figure size 432x288 with 1 Axes>"
            ]
          },
          "metadata": {
            "tags": []
          }
        }
      ]
    },
    {
      "cell_type": "markdown",
      "metadata": {
        "id": "FBgLe1w2qwaT",
        "colab_type": "text"
      },
      "source": [
        "### Map Multiple Players Career Goals"
      ]
    },
    {
      "cell_type": "markdown",
      "metadata": {
        "id": "yTfVYctjrQDZ",
        "colab_type": "text"
      },
      "source": [
        "We can also compare the career goals per season for a few players at a time.  We will remember the top 10 goal scorers.\n",
        "\n",
        "            Wayne Gretzky*    894\n",
        "            Gordie Howe*      801\n",
        "            Jaromir Jagr      766\n",
        "            Brett Hull*       741\n",
        "            Marcel Dionne*    731\n",
        "            Phil Esposito*    717\n",
        "            Mike Gartner*     708\n",
        "            Mark Messier*     694\n",
        "            Steve Yzerman*    692\n",
        "            Mario Lemieux*    690\n",
        "\n",
        "Maybe we want to look at all 10 of these players career goals per season at once:"
      ]
    },
    {
      "cell_type": "code",
      "metadata": {
        "id": "ekDPeou3dpJx",
        "colab_type": "code",
        "colab": {
          "base_uri": "https://localhost:8080/",
          "height": 279
        },
        "outputId": "04496c80-0570-4090-b4bf-84f2b42149ba"
      },
      "source": [
        "top_10 = skaters[ (skaters['Player'] == \"Wayne Gretzky*\") | \n",
        "                 (skaters['Player'] == \"Gordie Howe*\") |\n",
        "                 (skaters['Player'] == \"Jaromir Jagr*\") | \n",
        "                 (skaters['Player'] == \"Brett Hull*\") |\n",
        "                 (skaters['Player'] == \"Marcel Dionne*\") |\n",
        "                 (skaters['Player'] == \"Phil Espoito*\") |\n",
        "                 (skaters['Player'] == \"Mike Gartner*\") |\n",
        "                 (skaters['Player'] == \"Mark Messier*\") |\n",
        "                 (skaters['Player'] == \"Steve Yzerman*\") |\n",
        "                 (skaters['Player'] == \"Mario Lemieux*\") ]\n",
        "\n",
        "\n",
        "fig, ax = plt.subplots()\n",
        "for key, grp in top_10.groupby(['Player']):\n",
        "    ax = grp.plot(ax=ax, kind='line', x='Season', y='G', label=key)\n",
        "\n",
        "plt.legend(loc='best')\n",
        "plt.show()"
      ],
      "execution_count": 36,
      "outputs": [
        {
          "output_type": "display_data",
          "data": {
            "image/png": "[encoded data removed]",
            "text/plain": [
              "<Figure size 432x288 with 1 Axes>"
            ]
          },
          "metadata": {
            "tags": []
          }
        }
      ]
    },
    {
      "cell_type": "markdown",
      "metadata": {
        "id": "Lam_m6KSt7Sy",
        "colab_type": "text"
      },
      "source": [
        "Well, that's messy.  Maybe we can just look at 3 Skaters of our choosing."
      ]
    },
    {
      "cell_type": "code",
      "metadata": {
        "id": "10U85Ct6th4z",
        "colab_type": "code",
        "colab": {
          "base_uri": "https://localhost:8080/",
          "height": 279
        },
        "outputId": "d094966c-a8a0-4a69-94d9-1c601555fa6b"
      },
      "source": [
        "three_skaters = skaters[ (skaters['Player'] == \"Mark Messier*\") | \n",
        "                        (skaters['Player'] == \"Wayne Gretzky*\") | \n",
        "                        (skaters['Player'] == \"Brett Hull*\") ]\n",
        "fig, ax = plt.subplots()\n",
        "for key, grp in three_skaters.groupby(['Player']):\n",
        "    ax = grp.plot(ax=ax, kind='line', x='Season', y='G', label=key)\n",
        "\n",
        "plt.legend(loc='best')\n",
        "plt.show()"
      ],
      "execution_count": 37,
      "outputs": [
        {
          "output_type": "display_data",
          "data": {
            "image/png": "[encoded data removed]",
            "text/plain": [
              "<Figure size 432x288 with 1 Axes>"
            ]
          },
          "metadata": {
            "tags": []
          }
        }
      ]
    }
  ]
}