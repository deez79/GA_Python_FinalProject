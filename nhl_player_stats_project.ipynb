{
  "nbformat": 4,
  "nbformat_minor": 0,
  "metadata": {
    "colab": {
      "name": "nhl_player_stats_project.ipynb",
      "provenance": [],
      "collapsed_sections": [
        "GKx-mUMo-amm"
      ],
      "toc_visible": true,
      "include_colab_link": true
    },
    "kernelspec": {
      "name": "python3",
      "display_name": "Python 3"
    }
  },
  "cells": [
    {
      "cell_type": "markdown",
      "metadata": {
        "id": "view-in-github",
        "colab_type": "text"
      },
      "source": [
        "<a href=\"https://colab.research.google.com/github/deez79/GA_Python_FinalProject/blob/master/nhl_player_stats_project.ipynb\" target=\"_parent\"><img src=\"https://colab.research.google.com/assets/colab-badge.svg\" alt=\"Open In Colab\"/></a>"
      ]
    },
    {
      "cell_type": "markdown",
      "metadata": {
        "id": "rjUyAGTjqdPu",
        "colab_type": "text"
      },
      "source": [
        "# NHL Players from 1940 to 2018\n",
        "\n",
        "* Link to Dataset:\n",
        "https://www.kaggle.com/ace184/nhl-skater-stats"
      ]
    },
    {
      "cell_type": "markdown",
      "metadata": {
        "id": "TW9AcomcqiYT",
        "colab_type": "text"
      },
      "source": [
        "## Initial Setup:"
      ]
    },
    {
      "cell_type": "markdown",
      "metadata": {
        "id": "38_zh6SQ-xF0",
        "colab_type": "text"
      },
      "source": [
        "### Mount Google Drive to Colab\n",
        "\n",
        "\n"
      ]
    },
    {
      "cell_type": "code",
      "metadata": {
        "id": "rnprw0WEqUGs",
        "colab_type": "code",
        "outputId": "16ead149-ed9e-4f08-8d3b-5dbe9ac227f9",
        "colab": {
          "base_uri": "https://localhost:8080/",
          "height": 128
        }
      },
      "source": [
        "from google.colab import drive\n",
        "drive.mount('/content/drive')"
      ],
      "execution_count": 1,
      "outputs": [
        {
          "output_type": "stream",
          "text": [
            "Go to this URL in a browser: https://accounts.google.com/o/oauth2/auth?client_id=947318989803-6bn6qk8qdgf4n4g3pfee6491hc0brc4i.apps.googleusercontent.com&redirect_uri=urn%3Aietf%3Awg%3Aoauth%3A2.0%3Aoob&scope=email%20https%3A%2F%2Fwww.googleapis.com%2Fauth%2Fdocs.test%20https%3A%2F%2Fwww.googleapis.com%2Fauth%2Fdrive%20https%3A%2F%2Fwww.googleapis.com%2Fauth%2Fdrive.photos.readonly%20https%3A%2F%2Fwww.googleapis.com%2Fauth%2Fpeopleapi.readonly&response_type=code\n",
            "\n",
            "Enter your authorization code:\n",
            "··········\n",
            "Mounted at /content/drive\n"
          ],
          "name": "stdout"
        }
      ]
    },
    {
      "cell_type": "markdown",
      "metadata": {
        "id": "sRlYml5ZrEkx",
        "colab_type": "text"
      },
      "source": [
        "### Libraries:"
      ]
    },
    {
      "cell_type": "code",
      "metadata": {
        "id": "BNEqds3YrHFw",
        "colab_type": "code",
        "colab": {}
      },
      "source": [
        "import pandas as pd\n",
        "import numpy as np\n",
        "import matplotlib.pyplot as plt\n",
        "%matplotlib inline"
      ],
      "execution_count": 0,
      "outputs": []
    },
    {
      "cell_type": "markdown",
      "metadata": {
        "id": "aLYmN0TErHcK",
        "colab_type": "text"
      },
      "source": [
        "### Dataset imported:"
      ]
    },
    {
      "cell_type": "code",
      "metadata": {
        "id": "coXH0APazmrf",
        "colab_type": "code",
        "colab": {}
      },
      "source": [
        "data_excel = \"/content/drive/My Drive/DATAFILES/skater_stats.xlsx\"\n",
        "players = pd.read_excel(data_excel)"
      ],
      "execution_count": 0,
      "outputs": []
    },
    {
      "cell_type": "code",
      "metadata": {
        "id": "It-8FqyoyAic",
        "colab_type": "code",
        "colab": {
          "base_uri": "https://localhost:8080/",
          "height": 313
        },
        "outputId": "c0e8e889-15f3-4bb5-e441-b4ed0862ac07"
      },
      "source": [
        "# Quick look at the data:\n",
        "players.head()"
      ],
      "execution_count": 4,
      "outputs": [
        {
          "output_type": "execute_result",
          "data": {
            "text/html": [
              "<div>\n",
              "<style scoped>\n",
              "    .dataframe tbody tr th:only-of-type {\n",
              "        vertical-align: middle;\n",
              "    }\n",
              "\n",
              "    .dataframe tbody tr th {\n",
              "        vertical-align: top;\n",
              "    }\n",
              "\n",
              "    .dataframe thead th {\n",
              "        text-align: right;\n",
              "    }\n",
              "</style>\n",
              "<table border=\"1\" class=\"dataframe\">\n",
              "  <thead>\n",
              "    <tr style=\"text-align: right;\">\n",
              "      <th></th>\n",
              "      <th>Key</th>\n",
              "      <th>Season</th>\n",
              "      <th>Player</th>\n",
              "      <th>Age</th>\n",
              "      <th>Tm</th>\n",
              "      <th>Pos</th>\n",
              "      <th>GP</th>\n",
              "      <th>G</th>\n",
              "      <th>GPG</th>\n",
              "      <th>A</th>\n",
              "      <th>PTS</th>\n",
              "      <th>+/-</th>\n",
              "      <th>PIM</th>\n",
              "      <th>EVG</th>\n",
              "      <th>PPG</th>\n",
              "      <th>SHG</th>\n",
              "      <th>GWG</th>\n",
              "      <th>EVA</th>\n",
              "      <th>PPA</th>\n",
              "      <th>SHA</th>\n",
              "      <th>S</th>\n",
              "      <th>S%</th>\n",
              "      <th>TOI</th>\n",
              "      <th>ATOI</th>\n",
              "      <th>BLK</th>\n",
              "      <th>HIT</th>\n",
              "      <th>FOwin</th>\n",
              "      <th>FOloss</th>\n",
              "      <th>FO%</th>\n",
              "    </tr>\n",
              "  </thead>\n",
              "  <tbody>\n",
              "    <tr>\n",
              "      <th>0</th>\n",
              "      <td>2018Justin Abdelkader</td>\n",
              "      <td>2018</td>\n",
              "      <td>Justin Abdelkader</td>\n",
              "      <td>30.0</td>\n",
              "      <td>DET</td>\n",
              "      <td>LW</td>\n",
              "      <td>75</td>\n",
              "      <td>13</td>\n",
              "      <td>0.1733</td>\n",
              "      <td>22</td>\n",
              "      <td>35</td>\n",
              "      <td>-11</td>\n",
              "      <td>78</td>\n",
              "      <td>9</td>\n",
              "      <td>4</td>\n",
              "      <td>-</td>\n",
              "      <td>-</td>\n",
              "      <td>17</td>\n",
              "      <td>5</td>\n",
              "      <td>-</td>\n",
              "      <td>110</td>\n",
              "      <td>12</td>\n",
              "      <td>1241.0</td>\n",
              "      <td>16:33:00</td>\n",
              "      <td>40.0</td>\n",
              "      <td>174.0</td>\n",
              "      <td>47.0</td>\n",
              "      <td>50.0</td>\n",
              "      <td>48.5</td>\n",
              "    </tr>\n",
              "    <tr>\n",
              "      <th>1</th>\n",
              "      <td>2018Pontus Aberg</td>\n",
              "      <td>2018</td>\n",
              "      <td>Pontus Aberg</td>\n",
              "      <td>24.0</td>\n",
              "      <td>TOT</td>\n",
              "      <td>LW</td>\n",
              "      <td>53</td>\n",
              "      <td>4</td>\n",
              "      <td>0.0755</td>\n",
              "      <td>12</td>\n",
              "      <td>16</td>\n",
              "      <td>9</td>\n",
              "      <td>10</td>\n",
              "      <td>4</td>\n",
              "      <td>-</td>\n",
              "      <td>-</td>\n",
              "      <td>3</td>\n",
              "      <td>11</td>\n",
              "      <td>1</td>\n",
              "      <td>-</td>\n",
              "      <td>70</td>\n",
              "      <td>6</td>\n",
              "      <td>645.0</td>\n",
              "      <td>12:10:00</td>\n",
              "      <td>8.0</td>\n",
              "      <td>24.0</td>\n",
              "      <td>4.0</td>\n",
              "      <td>8.0</td>\n",
              "      <td>33.3</td>\n",
              "    </tr>\n",
              "    <tr>\n",
              "      <th>2</th>\n",
              "      <td>2018Noel Acciari</td>\n",
              "      <td>2018</td>\n",
              "      <td>Noel Acciari</td>\n",
              "      <td>26.0</td>\n",
              "      <td>BOS</td>\n",
              "      <td>C</td>\n",
              "      <td>60</td>\n",
              "      <td>10</td>\n",
              "      <td>0.1667</td>\n",
              "      <td>1</td>\n",
              "      <td>11</td>\n",
              "      <td>-6</td>\n",
              "      <td>9</td>\n",
              "      <td>9</td>\n",
              "      <td>-</td>\n",
              "      <td>1</td>\n",
              "      <td>-</td>\n",
              "      <td>1</td>\n",
              "      <td>-</td>\n",
              "      <td>-</td>\n",
              "      <td>66</td>\n",
              "      <td>15</td>\n",
              "      <td>775.0</td>\n",
              "      <td>12:55:00</td>\n",
              "      <td>41.0</td>\n",
              "      <td>152.0</td>\n",
              "      <td>42.0</td>\n",
              "      <td>51.0</td>\n",
              "      <td>45.2</td>\n",
              "    </tr>\n",
              "    <tr>\n",
              "      <th>3</th>\n",
              "      <td>2018Kenny Agostino</td>\n",
              "      <td>2018</td>\n",
              "      <td>Kenny Agostino</td>\n",
              "      <td>25.0</td>\n",
              "      <td>BOS</td>\n",
              "      <td>LW</td>\n",
              "      <td>5</td>\n",
              "      <td>-</td>\n",
              "      <td>0.0000</td>\n",
              "      <td>1</td>\n",
              "      <td>1</td>\n",
              "      <td>-1</td>\n",
              "      <td>4</td>\n",
              "      <td>-</td>\n",
              "      <td>-</td>\n",
              "      <td>-</td>\n",
              "      <td>-</td>\n",
              "      <td>-</td>\n",
              "      <td>1</td>\n",
              "      <td>-</td>\n",
              "      <td>11</td>\n",
              "      <td>-</td>\n",
              "      <td>60.0</td>\n",
              "      <td>12:03:00</td>\n",
              "      <td>1.0</td>\n",
              "      <td>4.0</td>\n",
              "      <td>0.0</td>\n",
              "      <td>1.0</td>\n",
              "      <td>0.0</td>\n",
              "    </tr>\n",
              "    <tr>\n",
              "      <th>4</th>\n",
              "      <td>2018Sebastian Aho</td>\n",
              "      <td>2018</td>\n",
              "      <td>Sebastian Aho</td>\n",
              "      <td>20.0</td>\n",
              "      <td>CAR</td>\n",
              "      <td>RW</td>\n",
              "      <td>78</td>\n",
              "      <td>29</td>\n",
              "      <td>0.3718</td>\n",
              "      <td>36</td>\n",
              "      <td>65</td>\n",
              "      <td>4</td>\n",
              "      <td>24</td>\n",
              "      <td>21</td>\n",
              "      <td>8</td>\n",
              "      <td>-</td>\n",
              "      <td>4</td>\n",
              "      <td>28</td>\n",
              "      <td>8</td>\n",
              "      <td>-</td>\n",
              "      <td>200</td>\n",
              "      <td>15</td>\n",
              "      <td>1398.0</td>\n",
              "      <td>17:55:00</td>\n",
              "      <td>17.0</td>\n",
              "      <td>65.0</td>\n",
              "      <td>78.0</td>\n",
              "      <td>94.0</td>\n",
              "      <td>45.3</td>\n",
              "    </tr>\n",
              "  </tbody>\n",
              "</table>\n",
              "</div>"
            ],
            "text/plain": [
              "                     Key  Season             Player  ...  FOwin FOloss   FO%\n",
              "0  2018Justin Abdelkader    2018  Justin Abdelkader  ...   47.0   50.0  48.5\n",
              "1       2018Pontus Aberg    2018       Pontus Aberg  ...    4.0    8.0  33.3\n",
              "2       2018Noel Acciari    2018       Noel Acciari  ...   42.0   51.0  45.2\n",
              "3     2018Kenny Agostino    2018     Kenny Agostino  ...    0.0    1.0   0.0\n",
              "4      2018Sebastian Aho    2018      Sebastian Aho  ...   78.0   94.0  45.3\n",
              "\n",
              "[5 rows x 29 columns]"
            ]
          },
          "metadata": {
            "tags": []
          },
          "execution_count": 4
        }
      ]
    },
    {
      "cell_type": "markdown",
      "metadata": {
        "id": "JttzQbwx-_nz",
        "colab_type": "text"
      },
      "source": [
        "## Initial Data Inspection:"
      ]
    },
    {
      "cell_type": "markdown",
      "metadata": {
        "id": "kSojcKKq_F0I",
        "colab_type": "text"
      },
      "source": [
        "### Genral Info:"
      ]
    },
    {
      "cell_type": "code",
      "metadata": {
        "id": "BVKVtCWM_K6U",
        "colab_type": "code",
        "colab": {}
      },
      "source": [
        "# print(players.shape)\n",
        "# print(\"-----------------------------------------------------\")\n",
        "# print(players.info())\n",
        "# print(\"-----------------------------------------------------\")\n",
        "# print(players.describe())\n",
        "# print(\"-----------------------------------------------------\")\n",
        "# print(players.dtypes)"
      ],
      "execution_count": 0,
      "outputs": []
    },
    {
      "cell_type": "markdown",
      "metadata": {
        "id": "EWNSG-T-M-Td",
        "colab_type": "text"
      },
      "source": [
        "* How big is the data?"
      ]
    },
    {
      "cell_type": "code",
      "metadata": {
        "id": "WdS5QGg4Mm6T",
        "colab_type": "code",
        "colab": {
          "base_uri": "https://localhost:8080/",
          "height": 35
        },
        "outputId": "1555b021-b351-4df8-ca06-5286d30bb6c0"
      },
      "source": [
        "rows, columns = players.shape\n",
        "\n",
        "print(f'There are {rows} rows and {columns} columns')"
      ],
      "execution_count": 6,
      "outputs": [
        {
          "output_type": "stream",
          "text": [
            "There are 37825 rows and 29 columns\n"
          ],
          "name": "stdout"
        }
      ]
    },
    {
      "cell_type": "markdown",
      "metadata": {
        "id": "DlAr8mP3NGfF",
        "colab_type": "text"
      },
      "source": [
        "* What are the columns and what kind of data do they store?"
      ]
    },
    {
      "cell_type": "code",
      "metadata": {
        "id": "tsn2qB26NLV7",
        "colab_type": "code",
        "colab": {
          "base_uri": "https://localhost:8080/",
          "height": 562
        },
        "outputId": "1e8d2004-b9a6-4d90-abae-211b58696455"
      },
      "source": [
        "print(players.dtypes)"
      ],
      "execution_count": 7,
      "outputs": [
        {
          "output_type": "stream",
          "text": [
            "Key        object\n",
            "Season      int64\n",
            "Player     object\n",
            "Age       float64\n",
            "Tm         object\n",
            "Pos        object\n",
            "GP          int64\n",
            "G          object\n",
            "GPG       float64\n",
            "A          object\n",
            "PTS        object\n",
            "+/-        object\n",
            "PIM        object\n",
            "EVG        object\n",
            "PPG        object\n",
            "SHG        object\n",
            "GWG        object\n",
            "EVA        object\n",
            "PPA        object\n",
            "SHA        object\n",
            "S          object\n",
            "S%         object\n",
            "TOI       float64\n",
            "ATOI       object\n",
            "BLK       float64\n",
            "HIT       float64\n",
            "FOwin     float64\n",
            "FOloss    float64\n",
            "FO%       float64\n",
            "dtype: object\n"
          ],
          "name": "stdout"
        }
      ]
    },
    {
      "cell_type": "markdown",
      "metadata": {
        "id": "vwUDUXCo4qlP",
        "colab_type": "text"
      },
      "source": [
        "### Columns Explained:"
      ]
    },
    {
      "cell_type": "markdown",
      "metadata": {
        "id": "e5ebzSL6YpaK",
        "colab_type": "text"
      },
      "source": [
        "* Let's define what each of the columns means:\n",
        "\n",
        "| Abrv | Description   |\n",
        "|------|---------------|\n",
        "| Key  | Unique Key. Combination of Player and Season|\n",
        "| Player | Player Name |\n",
        "| Age  | Player Age |\n",
        "| Tm | Player Team |\n",
        "| Pos | Player Position |\n",
        "| GP | Player Games Played |\n",
        "| G | Player Goals Scored |\n",
        "| GPG | Goals Per Game |\n",
        "| A | Player Assists |\n",
        "| PTS | Points. The Sum of Goals and Assists |\n",
        "| +/- | Plus or Minus |\n",
        "| PIM | Penalty Infraction Minutes |\n",
        "| EVG | Even Strenght Goals |\n",
        "| PPG | Power Play Goals |\n",
        "| SHG | Short Handed Goals |\n",
        "| GWG | Game Wining Goals |\n",
        "| EVA | Even Strenght Assists |\n",
        "| PPA | Power Play Assists |\n",
        "| SHA | Short Handed Assists |\n",
        "| S | Shots on Goal |\n",
        "| S% | Shooting Percentage. Goals divided by Shots on Goal |\n",
        "| TOI | Time on Ice |\n",
        "| ATOI | Average Time on Ice |\n",
        "| BLK | Blocks |\n",
        "| HIT | Hits  |\n",
        "| FOWin | Face Off Wins |\n",
        "| FOLoss | Face Off Loss |\n",
        "| FO% | Face Off Percentage | \n",
        "\n",
        "* links:\n",
        "  * https://www.liveabout.com/nhl-stats-explained-2778914\n",
        "  * https://www.answers.com/Q/What_does_evg_stand_for_in_hockey\n",
        "  * https://www.tsn.ca/nhl/statistics\n",
        "\n",
        "\n"
      ]
    },
    {
      "cell_type": "code",
      "metadata": {
        "id": "wHWhPHoa6vqT",
        "colab_type": "code",
        "colab": {}
      },
      "source": [
        "# players.head(20)"
      ],
      "execution_count": 0,
      "outputs": []
    },
    {
      "cell_type": "markdown",
      "metadata": {
        "id": "DpE3pgtX-H0w",
        "colab_type": "text"
      },
      "source": [
        "## Clean the Data:"
      ]
    },
    {
      "cell_type": "markdown",
      "metadata": {
        "id": "UbJaO0px1WWt",
        "colab_type": "text"
      },
      "source": [
        "### Change Column Types to int64 or Float64"
      ]
    },
    {
      "cell_type": "markdown",
      "metadata": {
        "id": "UlFOZu5d9gd_",
        "colab_type": "text"
      },
      "source": [
        "* How to make all the columns floats or ints as needed?"
      ]
    },
    {
      "cell_type": "code",
      "metadata": {
        "id": "5DD1oWOr0Ft-",
        "colab_type": "code",
        "colab": {}
      },
      "source": [
        "# players = players.fillna(value={'GP': 0, \"G\": 0, \"A\": 0, \"+/-\": 0, \"PIM\": 0, \"EVG\": 0, \"PPG\": 0, \"SHG\":0, \"GWG\": 0, \"EVA\": 0, \"PPA\": 0, \"SHA\":0, \"S\": 0, \"S%\":0, \"TOI\":0, \"ATOI\": 0, \"BLK\":0, \"HIT\":0, \"FOwin\":0, \"FOloss\": 0, \"FO%\": 0})\n"
      ],
      "execution_count": 0,
      "outputs": []
    },
    {
      "cell_type": "code",
      "metadata": {
        "id": "LQkPG26E7L0I",
        "colab_type": "code",
        "colab": {}
      },
      "source": [
        "# players.astype({'G': 'float64'}).dtypes"
      ],
      "execution_count": 0,
      "outputs": []
    },
    {
      "cell_type": "code",
      "metadata": {
        "id": "YuPLctSE52sm",
        "colab_type": "code",
        "colab": {}
      },
      "source": [
        "# players[[\"player\"] == 'Justin Abdelkader', \"GWG\" ].count()"
      ],
      "execution_count": 0,
      "outputs": []
    },
    {
      "cell_type": "code",
      "metadata": {
        "id": "QwzlDc4x85Xg",
        "colab_type": "code",
        "colab": {}
      },
      "source": [
        "# def strip_G_spaces(col):\n",
        "#   print(col.index[0])\n",
        "#   g = col['G']\n",
        "\n",
        "#   if type(g) == int:\n",
        "#     return g\n",
        "\n",
        "#   if type(g) == str:\n",
        "#     g = g.strip()\n",
        "#     try:\n",
        "#       g_int = int(g)\n",
        "#       if pd.isnan(g_int):\n",
        "#         return 0\n",
        "#       return g_int\n",
        "#     except:\n",
        "#       return 0\n",
        "\n",
        "# def testf(n):\n",
        "#   print('called')\n",
        "#   print(n, n.name)\n",
        "\n",
        "\n",
        "# players['sanitized_G'] = players[['G', 'EVG']].head(3).apply(testf, axis=0)\n",
        "\n",
        "# players.head(3)"
      ],
      "execution_count": 0,
      "outputs": []
    },
    {
      "cell_type": "code",
      "metadata": {
        "colab_type": "code",
        "outputId": "3722291b-b5f3-4950-b607-fc34f9f315e6",
        "id": "w_PhmMUgOlBL",
        "colab": {
          "base_uri": "https://localhost:8080/",
          "height": 313
        }
      },
      "source": [
        "### --- A function to change dashes with zeros --- ###\n",
        "\n",
        "def replace_dash(col):\n",
        "  c = col.values[0]\n",
        "\n",
        "  if type(c) == int:\n",
        "    return c \n",
        "  \n",
        "  if type(c) == str:\n",
        "    c = c.strip()\n",
        "    try:\n",
        "      c_int = int(c)\n",
        "      if pd.isnan(c_int):\n",
        "        return 0\n",
        "      return c_int\n",
        "    except:\n",
        "      return 0\n",
        "  else:\n",
        "    return c\n",
        "\n",
        "### --- A list of Columns to Fix --- ###\n",
        "cols_to_fix = ['GP', 'G', 'GPG', 'A', 'PTS', '+/-', 'PIM', 'EVG', 'PPG', 'SHG', 'GWG', 'EVA', 'PPA', 'SHA', 'S', 'S%', 'TOI', 'ATOI', 'BLK', 'HIT', 'FOwin', 'FOloss', 'FO%' ]\n",
        "\n",
        "### ---  A loop to run the function on each cell in the columns we need to fix --- ###\n",
        "for col_var in cols_to_fix:\n",
        "  # print(col_var)\n",
        "  # players_sanitized[col_var] = players[[col_var]].head(10).apply(replace_dash, axis=1)\n",
        "  players[col_var] = players[[col_var]].apply(replace_dash, axis=1)\n",
        "\n",
        "### --- lets look at the data --- ###\n",
        "players.head()"
      ],
      "execution_count": 12,
      "outputs": [
        {
          "output_type": "execute_result",
          "data": {
            "text/html": [
              "<div>\n",
              "<style scoped>\n",
              "    .dataframe tbody tr th:only-of-type {\n",
              "        vertical-align: middle;\n",
              "    }\n",
              "\n",
              "    .dataframe tbody tr th {\n",
              "        vertical-align: top;\n",
              "    }\n",
              "\n",
              "    .dataframe thead th {\n",
              "        text-align: right;\n",
              "    }\n",
              "</style>\n",
              "<table border=\"1\" class=\"dataframe\">\n",
              "  <thead>\n",
              "    <tr style=\"text-align: right;\">\n",
              "      <th></th>\n",
              "      <th>Key</th>\n",
              "      <th>Season</th>\n",
              "      <th>Player</th>\n",
              "      <th>Age</th>\n",
              "      <th>Tm</th>\n",
              "      <th>Pos</th>\n",
              "      <th>GP</th>\n",
              "      <th>G</th>\n",
              "      <th>GPG</th>\n",
              "      <th>A</th>\n",
              "      <th>PTS</th>\n",
              "      <th>+/-</th>\n",
              "      <th>PIM</th>\n",
              "      <th>EVG</th>\n",
              "      <th>PPG</th>\n",
              "      <th>SHG</th>\n",
              "      <th>GWG</th>\n",
              "      <th>EVA</th>\n",
              "      <th>PPA</th>\n",
              "      <th>SHA</th>\n",
              "      <th>S</th>\n",
              "      <th>S%</th>\n",
              "      <th>TOI</th>\n",
              "      <th>ATOI</th>\n",
              "      <th>BLK</th>\n",
              "      <th>HIT</th>\n",
              "      <th>FOwin</th>\n",
              "      <th>FOloss</th>\n",
              "      <th>FO%</th>\n",
              "    </tr>\n",
              "  </thead>\n",
              "  <tbody>\n",
              "    <tr>\n",
              "      <th>0</th>\n",
              "      <td>2018Justin Abdelkader</td>\n",
              "      <td>2018</td>\n",
              "      <td>Justin Abdelkader</td>\n",
              "      <td>30.0</td>\n",
              "      <td>DET</td>\n",
              "      <td>LW</td>\n",
              "      <td>75</td>\n",
              "      <td>13</td>\n",
              "      <td>0.1733</td>\n",
              "      <td>22</td>\n",
              "      <td>35</td>\n",
              "      <td>-11.0</td>\n",
              "      <td>78.0</td>\n",
              "      <td>9.0</td>\n",
              "      <td>4.0</td>\n",
              "      <td>0.0</td>\n",
              "      <td>0.0</td>\n",
              "      <td>17.0</td>\n",
              "      <td>5.0</td>\n",
              "      <td>0.0</td>\n",
              "      <td>110.0</td>\n",
              "      <td>12.0</td>\n",
              "      <td>1241.0</td>\n",
              "      <td>16:33:00</td>\n",
              "      <td>40.0</td>\n",
              "      <td>174.0</td>\n",
              "      <td>47.0</td>\n",
              "      <td>50.0</td>\n",
              "      <td>48.5</td>\n",
              "    </tr>\n",
              "    <tr>\n",
              "      <th>1</th>\n",
              "      <td>2018Pontus Aberg</td>\n",
              "      <td>2018</td>\n",
              "      <td>Pontus Aberg</td>\n",
              "      <td>24.0</td>\n",
              "      <td>TOT</td>\n",
              "      <td>LW</td>\n",
              "      <td>53</td>\n",
              "      <td>4</td>\n",
              "      <td>0.0755</td>\n",
              "      <td>12</td>\n",
              "      <td>16</td>\n",
              "      <td>9.0</td>\n",
              "      <td>10.0</td>\n",
              "      <td>4.0</td>\n",
              "      <td>0.0</td>\n",
              "      <td>0.0</td>\n",
              "      <td>3.0</td>\n",
              "      <td>11.0</td>\n",
              "      <td>1.0</td>\n",
              "      <td>0.0</td>\n",
              "      <td>70.0</td>\n",
              "      <td>6.0</td>\n",
              "      <td>645.0</td>\n",
              "      <td>12:10:00</td>\n",
              "      <td>8.0</td>\n",
              "      <td>24.0</td>\n",
              "      <td>4.0</td>\n",
              "      <td>8.0</td>\n",
              "      <td>33.3</td>\n",
              "    </tr>\n",
              "    <tr>\n",
              "      <th>2</th>\n",
              "      <td>2018Noel Acciari</td>\n",
              "      <td>2018</td>\n",
              "      <td>Noel Acciari</td>\n",
              "      <td>26.0</td>\n",
              "      <td>BOS</td>\n",
              "      <td>C</td>\n",
              "      <td>60</td>\n",
              "      <td>10</td>\n",
              "      <td>0.1667</td>\n",
              "      <td>1</td>\n",
              "      <td>11</td>\n",
              "      <td>-6.0</td>\n",
              "      <td>9.0</td>\n",
              "      <td>9.0</td>\n",
              "      <td>0.0</td>\n",
              "      <td>1.0</td>\n",
              "      <td>0.0</td>\n",
              "      <td>1.0</td>\n",
              "      <td>0.0</td>\n",
              "      <td>0.0</td>\n",
              "      <td>66.0</td>\n",
              "      <td>15.0</td>\n",
              "      <td>775.0</td>\n",
              "      <td>12:55:00</td>\n",
              "      <td>41.0</td>\n",
              "      <td>152.0</td>\n",
              "      <td>42.0</td>\n",
              "      <td>51.0</td>\n",
              "      <td>45.2</td>\n",
              "    </tr>\n",
              "    <tr>\n",
              "      <th>3</th>\n",
              "      <td>2018Kenny Agostino</td>\n",
              "      <td>2018</td>\n",
              "      <td>Kenny Agostino</td>\n",
              "      <td>25.0</td>\n",
              "      <td>BOS</td>\n",
              "      <td>LW</td>\n",
              "      <td>5</td>\n",
              "      <td>0</td>\n",
              "      <td>0.0000</td>\n",
              "      <td>1</td>\n",
              "      <td>1</td>\n",
              "      <td>-1.0</td>\n",
              "      <td>4.0</td>\n",
              "      <td>0.0</td>\n",
              "      <td>0.0</td>\n",
              "      <td>0.0</td>\n",
              "      <td>0.0</td>\n",
              "      <td>0.0</td>\n",
              "      <td>1.0</td>\n",
              "      <td>0.0</td>\n",
              "      <td>11.0</td>\n",
              "      <td>0.0</td>\n",
              "      <td>60.0</td>\n",
              "      <td>12:03:00</td>\n",
              "      <td>1.0</td>\n",
              "      <td>4.0</td>\n",
              "      <td>0.0</td>\n",
              "      <td>1.0</td>\n",
              "      <td>0.0</td>\n",
              "    </tr>\n",
              "    <tr>\n",
              "      <th>4</th>\n",
              "      <td>2018Sebastian Aho</td>\n",
              "      <td>2018</td>\n",
              "      <td>Sebastian Aho</td>\n",
              "      <td>20.0</td>\n",
              "      <td>CAR</td>\n",
              "      <td>RW</td>\n",
              "      <td>78</td>\n",
              "      <td>29</td>\n",
              "      <td>0.3718</td>\n",
              "      <td>36</td>\n",
              "      <td>65</td>\n",
              "      <td>4.0</td>\n",
              "      <td>24.0</td>\n",
              "      <td>21.0</td>\n",
              "      <td>8.0</td>\n",
              "      <td>0.0</td>\n",
              "      <td>4.0</td>\n",
              "      <td>28.0</td>\n",
              "      <td>8.0</td>\n",
              "      <td>0.0</td>\n",
              "      <td>200.0</td>\n",
              "      <td>15.0</td>\n",
              "      <td>1398.0</td>\n",
              "      <td>17:55:00</td>\n",
              "      <td>17.0</td>\n",
              "      <td>65.0</td>\n",
              "      <td>78.0</td>\n",
              "      <td>94.0</td>\n",
              "      <td>45.3</td>\n",
              "    </tr>\n",
              "  </tbody>\n",
              "</table>\n",
              "</div>"
            ],
            "text/plain": [
              "                     Key  Season             Player  ...  FOwin FOloss   FO%\n",
              "0  2018Justin Abdelkader    2018  Justin Abdelkader  ...   47.0   50.0  48.5\n",
              "1       2018Pontus Aberg    2018       Pontus Aberg  ...    4.0    8.0  33.3\n",
              "2       2018Noel Acciari    2018       Noel Acciari  ...   42.0   51.0  45.2\n",
              "3     2018Kenny Agostino    2018     Kenny Agostino  ...    0.0    1.0   0.0\n",
              "4      2018Sebastian Aho    2018      Sebastian Aho  ...   78.0   94.0  45.3\n",
              "\n",
              "[5 rows x 29 columns]"
            ]
          },
          "metadata": {
            "tags": []
          },
          "execution_count": 12
        }
      ]
    },
    {
      "cell_type": "code",
      "metadata": {
        "id": "AwlhwAyB3URE",
        "colab_type": "code",
        "colab": {}
      },
      "source": [
        "### ---  Replace NA's with 0's --- ###\n",
        "players = players.fillna(0)"
      ],
      "execution_count": 0,
      "outputs": []
    },
    {
      "cell_type": "code",
      "metadata": {
        "id": "KemAMWb53NVK",
        "colab_type": "code",
        "outputId": "0b52326c-d069-4c01-8c79-8ac6207f307b",
        "colab": {
          "base_uri": "https://localhost:8080/",
          "height": 557
        }
      },
      "source": [
        "players.tail(10)"
      ],
      "execution_count": 14,
      "outputs": [
        {
          "output_type": "execute_result",
          "data": {
            "text/html": [
              "<div>\n",
              "<style scoped>\n",
              "    .dataframe tbody tr th:only-of-type {\n",
              "        vertical-align: middle;\n",
              "    }\n",
              "\n",
              "    .dataframe tbody tr th {\n",
              "        vertical-align: top;\n",
              "    }\n",
              "\n",
              "    .dataframe thead th {\n",
              "        text-align: right;\n",
              "    }\n",
              "</style>\n",
              "<table border=\"1\" class=\"dataframe\">\n",
              "  <thead>\n",
              "    <tr style=\"text-align: right;\">\n",
              "      <th></th>\n",
              "      <th>Key</th>\n",
              "      <th>Season</th>\n",
              "      <th>Player</th>\n",
              "      <th>Age</th>\n",
              "      <th>Tm</th>\n",
              "      <th>Pos</th>\n",
              "      <th>GP</th>\n",
              "      <th>G</th>\n",
              "      <th>GPG</th>\n",
              "      <th>A</th>\n",
              "      <th>PTS</th>\n",
              "      <th>+/-</th>\n",
              "      <th>PIM</th>\n",
              "      <th>EVG</th>\n",
              "      <th>PPG</th>\n",
              "      <th>SHG</th>\n",
              "      <th>GWG</th>\n",
              "      <th>EVA</th>\n",
              "      <th>PPA</th>\n",
              "      <th>SHA</th>\n",
              "      <th>S</th>\n",
              "      <th>S%</th>\n",
              "      <th>TOI</th>\n",
              "      <th>ATOI</th>\n",
              "      <th>BLK</th>\n",
              "      <th>HIT</th>\n",
              "      <th>FOwin</th>\n",
              "      <th>FOloss</th>\n",
              "      <th>FO%</th>\n",
              "    </tr>\n",
              "  </thead>\n",
              "  <tbody>\n",
              "    <tr>\n",
              "      <th>37815</th>\n",
              "      <td>1940Toe Blake*</td>\n",
              "      <td>1940</td>\n",
              "      <td>Toe Blake*</td>\n",
              "      <td>27.0</td>\n",
              "      <td>MTL</td>\n",
              "      <td>LW</td>\n",
              "      <td>48</td>\n",
              "      <td>17</td>\n",
              "      <td>0.3542</td>\n",
              "      <td>19</td>\n",
              "      <td>36</td>\n",
              "      <td>0.0</td>\n",
              "      <td>48.0</td>\n",
              "      <td>0.0</td>\n",
              "      <td>0.0</td>\n",
              "      <td>0.0</td>\n",
              "      <td>0.0</td>\n",
              "      <td>0.0</td>\n",
              "      <td>0.0</td>\n",
              "      <td>0.0</td>\n",
              "      <td>0.0</td>\n",
              "      <td>0.0</td>\n",
              "      <td>0.0</td>\n",
              "      <td>0</td>\n",
              "      <td>0.0</td>\n",
              "      <td>0.0</td>\n",
              "      <td>0.0</td>\n",
              "      <td>0.0</td>\n",
              "      <td>0.0</td>\n",
              "    </tr>\n",
              "    <tr>\n",
              "      <th>37816</th>\n",
              "      <td>1940Murray Armstrong</td>\n",
              "      <td>1940</td>\n",
              "      <td>Murray Armstrong</td>\n",
              "      <td>24.0</td>\n",
              "      <td>NYA</td>\n",
              "      <td>C</td>\n",
              "      <td>47</td>\n",
              "      <td>16</td>\n",
              "      <td>0.3404</td>\n",
              "      <td>20</td>\n",
              "      <td>36</td>\n",
              "      <td>0.0</td>\n",
              "      <td>12.0</td>\n",
              "      <td>0.0</td>\n",
              "      <td>0.0</td>\n",
              "      <td>0.0</td>\n",
              "      <td>0.0</td>\n",
              "      <td>0.0</td>\n",
              "      <td>0.0</td>\n",
              "      <td>0.0</td>\n",
              "      <td>0.0</td>\n",
              "      <td>0.0</td>\n",
              "      <td>0.0</td>\n",
              "      <td>0</td>\n",
              "      <td>0.0</td>\n",
              "      <td>0.0</td>\n",
              "      <td>0.0</td>\n",
              "      <td>0.0</td>\n",
              "      <td>0.0</td>\n",
              "    </tr>\n",
              "    <tr>\n",
              "      <th>37817</th>\n",
              "      <td>1940Syd Howe*</td>\n",
              "      <td>1940</td>\n",
              "      <td>Syd Howe*</td>\n",
              "      <td>28.0</td>\n",
              "      <td>DET</td>\n",
              "      <td>C</td>\n",
              "      <td>46</td>\n",
              "      <td>14</td>\n",
              "      <td>0.3043</td>\n",
              "      <td>23</td>\n",
              "      <td>37</td>\n",
              "      <td>0.0</td>\n",
              "      <td>17.0</td>\n",
              "      <td>0.0</td>\n",
              "      <td>0.0</td>\n",
              "      <td>0.0</td>\n",
              "      <td>0.0</td>\n",
              "      <td>0.0</td>\n",
              "      <td>0.0</td>\n",
              "      <td>0.0</td>\n",
              "      <td>0.0</td>\n",
              "      <td>0.0</td>\n",
              "      <td>0.0</td>\n",
              "      <td>0</td>\n",
              "      <td>0.0</td>\n",
              "      <td>0.0</td>\n",
              "      <td>0.0</td>\n",
              "      <td>0.0</td>\n",
              "      <td>0.0</td>\n",
              "    </tr>\n",
              "    <tr>\n",
              "      <th>37818</th>\n",
              "      <td>1940Neil Colville*</td>\n",
              "      <td>1940</td>\n",
              "      <td>Neil Colville*</td>\n",
              "      <td>25.0</td>\n",
              "      <td>NYR</td>\n",
              "      <td>C</td>\n",
              "      <td>48</td>\n",
              "      <td>19</td>\n",
              "      <td>0.3958</td>\n",
              "      <td>19</td>\n",
              "      <td>38</td>\n",
              "      <td>0.0</td>\n",
              "      <td>22.0</td>\n",
              "      <td>0.0</td>\n",
              "      <td>0.0</td>\n",
              "      <td>0.0</td>\n",
              "      <td>0.0</td>\n",
              "      <td>0.0</td>\n",
              "      <td>0.0</td>\n",
              "      <td>0.0</td>\n",
              "      <td>0.0</td>\n",
              "      <td>0.0</td>\n",
              "      <td>0.0</td>\n",
              "      <td>0</td>\n",
              "      <td>0.0</td>\n",
              "      <td>0.0</td>\n",
              "      <td>0.0</td>\n",
              "      <td>0.0</td>\n",
              "      <td>0.0</td>\n",
              "    </tr>\n",
              "    <tr>\n",
              "      <th>37819</th>\n",
              "      <td>1940Bryan Hextall*</td>\n",
              "      <td>1940</td>\n",
              "      <td>Bryan Hextall*</td>\n",
              "      <td>26.0</td>\n",
              "      <td>NYR</td>\n",
              "      <td>RW</td>\n",
              "      <td>48</td>\n",
              "      <td>24</td>\n",
              "      <td>0.5000</td>\n",
              "      <td>15</td>\n",
              "      <td>39</td>\n",
              "      <td>0.0</td>\n",
              "      <td>52.0</td>\n",
              "      <td>0.0</td>\n",
              "      <td>0.0</td>\n",
              "      <td>0.0</td>\n",
              "      <td>0.0</td>\n",
              "      <td>0.0</td>\n",
              "      <td>0.0</td>\n",
              "      <td>0.0</td>\n",
              "      <td>0.0</td>\n",
              "      <td>0.0</td>\n",
              "      <td>0.0</td>\n",
              "      <td>0</td>\n",
              "      <td>0.0</td>\n",
              "      <td>0.0</td>\n",
              "      <td>0.0</td>\n",
              "      <td>0.0</td>\n",
              "      <td>0.0</td>\n",
              "    </tr>\n",
              "    <tr>\n",
              "      <th>37820</th>\n",
              "      <td>1940Gordie Drillon*</td>\n",
              "      <td>1940</td>\n",
              "      <td>Gordie Drillon*</td>\n",
              "      <td>26.0</td>\n",
              "      <td>TOR</td>\n",
              "      <td>RW</td>\n",
              "      <td>43</td>\n",
              "      <td>21</td>\n",
              "      <td>0.4884</td>\n",
              "      <td>19</td>\n",
              "      <td>40</td>\n",
              "      <td>0.0</td>\n",
              "      <td>13.0</td>\n",
              "      <td>0.0</td>\n",
              "      <td>0.0</td>\n",
              "      <td>0.0</td>\n",
              "      <td>0.0</td>\n",
              "      <td>0.0</td>\n",
              "      <td>0.0</td>\n",
              "      <td>0.0</td>\n",
              "      <td>0.0</td>\n",
              "      <td>0.0</td>\n",
              "      <td>0.0</td>\n",
              "      <td>0</td>\n",
              "      <td>0.0</td>\n",
              "      <td>0.0</td>\n",
              "      <td>0.0</td>\n",
              "      <td>0.0</td>\n",
              "      <td>0.0</td>\n",
              "    </tr>\n",
              "    <tr>\n",
              "      <th>37821</th>\n",
              "      <td>1940Bill Cowley*</td>\n",
              "      <td>1940</td>\n",
              "      <td>Bill Cowley*</td>\n",
              "      <td>27.0</td>\n",
              "      <td>BOS</td>\n",
              "      <td>C</td>\n",
              "      <td>48</td>\n",
              "      <td>13</td>\n",
              "      <td>0.2708</td>\n",
              "      <td>27</td>\n",
              "      <td>40</td>\n",
              "      <td>0.0</td>\n",
              "      <td>24.0</td>\n",
              "      <td>0.0</td>\n",
              "      <td>0.0</td>\n",
              "      <td>0.0</td>\n",
              "      <td>0.0</td>\n",
              "      <td>0.0</td>\n",
              "      <td>0.0</td>\n",
              "      <td>0.0</td>\n",
              "      <td>0.0</td>\n",
              "      <td>0.0</td>\n",
              "      <td>0.0</td>\n",
              "      <td>0</td>\n",
              "      <td>0.0</td>\n",
              "      <td>0.0</td>\n",
              "      <td>0.0</td>\n",
              "      <td>0.0</td>\n",
              "      <td>0.0</td>\n",
              "    </tr>\n",
              "    <tr>\n",
              "      <th>37822</th>\n",
              "      <td>1940Woody Dumart*</td>\n",
              "      <td>1940</td>\n",
              "      <td>Woody Dumart*</td>\n",
              "      <td>23.0</td>\n",
              "      <td>BOS</td>\n",
              "      <td>LW</td>\n",
              "      <td>48</td>\n",
              "      <td>22</td>\n",
              "      <td>0.4583</td>\n",
              "      <td>21</td>\n",
              "      <td>43</td>\n",
              "      <td>0.0</td>\n",
              "      <td>16.0</td>\n",
              "      <td>0.0</td>\n",
              "      <td>0.0</td>\n",
              "      <td>0.0</td>\n",
              "      <td>0.0</td>\n",
              "      <td>0.0</td>\n",
              "      <td>0.0</td>\n",
              "      <td>0.0</td>\n",
              "      <td>0.0</td>\n",
              "      <td>0.0</td>\n",
              "      <td>0.0</td>\n",
              "      <td>0</td>\n",
              "      <td>0.0</td>\n",
              "      <td>0.0</td>\n",
              "      <td>0.0</td>\n",
              "      <td>0.0</td>\n",
              "      <td>0.0</td>\n",
              "    </tr>\n",
              "    <tr>\n",
              "      <th>37823</th>\n",
              "      <td>1940Bobby Bauer*</td>\n",
              "      <td>1940</td>\n",
              "      <td>Bobby Bauer*</td>\n",
              "      <td>24.0</td>\n",
              "      <td>BOS</td>\n",
              "      <td>RW</td>\n",
              "      <td>48</td>\n",
              "      <td>17</td>\n",
              "      <td>0.3542</td>\n",
              "      <td>26</td>\n",
              "      <td>43</td>\n",
              "      <td>0.0</td>\n",
              "      <td>2.0</td>\n",
              "      <td>0.0</td>\n",
              "      <td>0.0</td>\n",
              "      <td>0.0</td>\n",
              "      <td>0.0</td>\n",
              "      <td>0.0</td>\n",
              "      <td>0.0</td>\n",
              "      <td>0.0</td>\n",
              "      <td>0.0</td>\n",
              "      <td>0.0</td>\n",
              "      <td>0.0</td>\n",
              "      <td>0</td>\n",
              "      <td>0.0</td>\n",
              "      <td>0.0</td>\n",
              "      <td>0.0</td>\n",
              "      <td>0.0</td>\n",
              "      <td>0.0</td>\n",
              "    </tr>\n",
              "    <tr>\n",
              "      <th>37824</th>\n",
              "      <td>1940Milt Schmidt*</td>\n",
              "      <td>1940</td>\n",
              "      <td>Milt Schmidt*</td>\n",
              "      <td>21.0</td>\n",
              "      <td>BOS</td>\n",
              "      <td>C</td>\n",
              "      <td>48</td>\n",
              "      <td>22</td>\n",
              "      <td>0.4583</td>\n",
              "      <td>30</td>\n",
              "      <td>52</td>\n",
              "      <td>0.0</td>\n",
              "      <td>37.0</td>\n",
              "      <td>0.0</td>\n",
              "      <td>0.0</td>\n",
              "      <td>0.0</td>\n",
              "      <td>0.0</td>\n",
              "      <td>0.0</td>\n",
              "      <td>0.0</td>\n",
              "      <td>0.0</td>\n",
              "      <td>0.0</td>\n",
              "      <td>0.0</td>\n",
              "      <td>0.0</td>\n",
              "      <td>0</td>\n",
              "      <td>0.0</td>\n",
              "      <td>0.0</td>\n",
              "      <td>0.0</td>\n",
              "      <td>0.0</td>\n",
              "      <td>0.0</td>\n",
              "    </tr>\n",
              "  </tbody>\n",
              "</table>\n",
              "</div>"
            ],
            "text/plain": [
              "                        Key  Season            Player  ...  FOwin FOloss  FO%\n",
              "37815        1940Toe Blake*    1940        Toe Blake*  ...    0.0    0.0  0.0\n",
              "37816  1940Murray Armstrong    1940  Murray Armstrong  ...    0.0    0.0  0.0\n",
              "37817         1940Syd Howe*    1940         Syd Howe*  ...    0.0    0.0  0.0\n",
              "37818    1940Neil Colville*    1940    Neil Colville*  ...    0.0    0.0  0.0\n",
              "37819    1940Bryan Hextall*    1940    Bryan Hextall*  ...    0.0    0.0  0.0\n",
              "37820   1940Gordie Drillon*    1940   Gordie Drillon*  ...    0.0    0.0  0.0\n",
              "37821      1940Bill Cowley*    1940      Bill Cowley*  ...    0.0    0.0  0.0\n",
              "37822     1940Woody Dumart*    1940     Woody Dumart*  ...    0.0    0.0  0.0\n",
              "37823      1940Bobby Bauer*    1940      Bobby Bauer*  ...    0.0    0.0  0.0\n",
              "37824     1940Milt Schmidt*    1940     Milt Schmidt*  ...    0.0    0.0  0.0\n",
              "\n",
              "[10 rows x 29 columns]"
            ]
          },
          "metadata": {
            "tags": []
          },
          "execution_count": 14
        }
      ]
    },
    {
      "cell_type": "markdown",
      "metadata": {
        "id": "L2xaaiDzfEFU",
        "colab_type": "text"
      },
      "source": [
        "### Data Slices:"
      ]
    },
    {
      "cell_type": "markdown",
      "metadata": {
        "id": "ETdY_Yq9-VUj",
        "colab_type": "text"
      },
      "source": [
        "#### How many Teams are there?"
      ]
    },
    {
      "cell_type": "code",
      "metadata": {
        "id": "DuLEKJLnYGoB",
        "colab_type": "code",
        "outputId": "ab765c34-8305-4ee6-b62c-3311e7a63b08",
        "colab": {
          "base_uri": "https://localhost:8080/",
          "height": 0
        }
      },
      "source": [
        "# print(players.groupby('Tm').count()['Player'])\n",
        "# print(players.groupby('Tm').max()['G'])\n",
        "print(players['Tm'].unique())\n",
        "print(players['Tm'].nunique())"
      ],
      "execution_count": 15,
      "outputs": [
        {
          "output_type": "stream",
          "text": [
            "[' DET ' ' TOT ' ' BOS ' ' CAR ' ' NYI ' ' MTL ' ' LAK ' ' CBJ ' ' NYR '\n",
            " ' CGY ' ' COL ' ' CHI ' ' BUF ' ' VAN ' ' WPG ' ' NSH ' ' PIT ' ' EDM '\n",
            " ' WSH ' ' FLA ' ' STL ' ' ANA ' ' VEG ' ' MIN ' ' DAL ' ' OTT ' ' SJS '\n",
            " ' TOR ' ' TBL ' ' NJD ' ' ARI ' ' PHI ' ' PHX ' ' ATL ' ' MDA ' ' HAR '\n",
            " ' WIN ' ' QUE ' ' MNS ' ' CBH ' ' CLR ' ' ATF ' ' CLE ' ' CGS ' ' KCS '\n",
            " ' OAK ' ' BRO ' ' NYA ']\n",
            "48\n"
          ],
          "name": "stdout"
        }
      ]
    },
    {
      "cell_type": "markdown",
      "metadata": {
        "id": "GKx-mUMo-amm",
        "colab_type": "text"
      },
      "source": [
        "#### Who has the most Goals per Team?"
      ]
    },
    {
      "cell_type": "code",
      "metadata": {
        "id": "t-uxyJsFin7_",
        "colab_type": "code",
        "outputId": "985b95df-8e68-4cd6-f234-9039eac55f94",
        "colab": {
          "base_uri": "https://localhost:8080/",
          "height": 0
        }
      },
      "source": [
        "team = \"NYR\"\n",
        "# players[ players['Tm'] == team ].sort_values(by=\"GP\", ascending=False).head(5)\n",
        "# players[ players['Tm'] == team ].sort_values(by=\"G\", ascending=False)\n",
        "# players[ players['Tm'] == team ]\n",
        "# players[['Tm', 'G']].sort_values(by='G').head()\n",
        "\n",
        "players[['Player', 'Tm','Season', 'GP']].sort_values(by = 'GP', ascending=False).head(10)"
      ],
      "execution_count": 16,
      "outputs": [
        {
          "output_type": "execute_result",
          "data": {
            "text/html": [
              "<div>\n",
              "<style scoped>\n",
              "    .dataframe tbody tr th:only-of-type {\n",
              "        vertical-align: middle;\n",
              "    }\n",
              "\n",
              "    .dataframe tbody tr th {\n",
              "        vertical-align: top;\n",
              "    }\n",
              "\n",
              "    .dataframe thead th {\n",
              "        text-align: right;\n",
              "    }\n",
              "</style>\n",
              "<table border=\"1\" class=\"dataframe\">\n",
              "  <thead>\n",
              "    <tr style=\"text-align: right;\">\n",
              "      <th></th>\n",
              "      <th>Player</th>\n",
              "      <th>Tm</th>\n",
              "      <th>Season</th>\n",
              "      <th>GP</th>\n",
              "    </tr>\n",
              "  </thead>\n",
              "  <tbody>\n",
              "    <tr>\n",
              "      <th>21105</th>\n",
              "      <td>Jimmy Carson</td>\n",
              "      <td>TOT</td>\n",
              "      <td>1993</td>\n",
              "      <td>86</td>\n",
              "    </tr>\n",
              "    <tr>\n",
              "      <th>20403</th>\n",
              "      <td>Bob Kudelski</td>\n",
              "      <td>TOT</td>\n",
              "      <td>1994</td>\n",
              "      <td>86</td>\n",
              "    </tr>\n",
              "    <tr>\n",
              "      <th>20262</th>\n",
              "      <td>Mark Lamb</td>\n",
              "      <td>TOT</td>\n",
              "      <td>1994</td>\n",
              "      <td>85</td>\n",
              "    </tr>\n",
              "    <tr>\n",
              "      <th>14961</th>\n",
              "      <td>Bill Guerin</td>\n",
              "      <td>TOT</td>\n",
              "      <td>2001</td>\n",
              "      <td>85</td>\n",
              "    </tr>\n",
              "    <tr>\n",
              "      <th>12997</th>\n",
              "      <td>Rem Murray</td>\n",
              "      <td>TOT</td>\n",
              "      <td>2003</td>\n",
              "      <td>85</td>\n",
              "    </tr>\n",
              "    <tr>\n",
              "      <th>20296</th>\n",
              "      <td>Glenn Anderson*</td>\n",
              "      <td>TOT</td>\n",
              "      <td>1994</td>\n",
              "      <td>85</td>\n",
              "    </tr>\n",
              "    <tr>\n",
              "      <th>20088</th>\n",
              "      <td>Joe Reekie</td>\n",
              "      <td>TOT</td>\n",
              "      <td>1994</td>\n",
              "      <td>85</td>\n",
              "    </tr>\n",
              "    <tr>\n",
              "      <th>20027</th>\n",
              "      <td>Mark Janssens</td>\n",
              "      <td>HAR</td>\n",
              "      <td>1994</td>\n",
              "      <td>84</td>\n",
              "    </tr>\n",
              "    <tr>\n",
              "      <th>21096</th>\n",
              "      <td>Steve Larmer</td>\n",
              "      <td>CHI</td>\n",
              "      <td>1993</td>\n",
              "      <td>84</td>\n",
              "    </tr>\n",
              "    <tr>\n",
              "      <th>20049</th>\n",
              "      <td>Craig Ludwig</td>\n",
              "      <td>DAL</td>\n",
              "      <td>1994</td>\n",
              "      <td>84</td>\n",
              "    </tr>\n",
              "  </tbody>\n",
              "</table>\n",
              "</div>"
            ],
            "text/plain": [
              "                Player     Tm  Season  GP\n",
              "21105     Jimmy Carson   TOT     1993  86\n",
              "20403     Bob Kudelski   TOT     1994  86\n",
              "20262        Mark Lamb   TOT     1994  85\n",
              "14961      Bill Guerin   TOT     2001  85\n",
              "12997       Rem Murray   TOT     2003  85\n",
              "20296  Glenn Anderson*   TOT     1994  85\n",
              "20088       Joe Reekie   TOT     1994  85\n",
              "20027    Mark Janssens   HAR     1994  84\n",
              "21096     Steve Larmer   CHI     1993  84\n",
              "20049     Craig Ludwig   DAL     1994  84"
            ]
          },
          "metadata": {
            "tags": []
          },
          "execution_count": 16
        }
      ]
    },
    {
      "cell_type": "markdown",
      "metadata": {
        "id": "k48jAJkIpnxM",
        "colab_type": "text"
      },
      "source": [
        "## Answer the following questions:\n",
        "\n",
        "\n",
        "\n"
      ]
    },
    {
      "cell_type": "markdown",
      "metadata": {
        "id": "DTkDPC6jpuEO",
        "colab_type": "text"
      },
      "source": [
        "### Which Goalie scored the most goals?\n"
      ]
    },
    {
      "cell_type": "markdown",
      "metadata": {
        "id": "figH1Yiap63O",
        "colab_type": "text"
      },
      "source": [
        "### What age do players score the most goals?\n"
      ]
    },
    {
      "cell_type": "markdown",
      "metadata": {
        "id": "P3rtu2Qop84r",
        "colab_type": "text"
      },
      "source": [
        "### Which Ranger has the highest Pts?\n"
      ]
    },
    {
      "cell_type": "markdown",
      "metadata": {
        "id": "ManftRQrp_cO",
        "colab_type": "text"
      },
      "source": [
        "## Graph the following:\n"
      ]
    },
    {
      "cell_type": "markdown",
      "metadata": {
        "id": "gnDPclPmqECG",
        "colab_type": "text"
      },
      "source": [
        "### Teams with the most points\n"
      ]
    },
    {
      "cell_type": "markdown",
      "metadata": {
        "id": "fkXANKuIqFxC",
        "colab_type": "text"
      },
      "source": [
        "### Goals per year for most goals scored player"
      ]
    }
  ]
}